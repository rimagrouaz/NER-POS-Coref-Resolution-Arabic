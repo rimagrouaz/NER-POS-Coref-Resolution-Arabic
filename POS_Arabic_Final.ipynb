{
  "cells": [
    {
      "cell_type": "code",
      "execution_count": 1,
      "metadata": {
        "colab": {
          "base_uri": "https://localhost:8080/",
          "height": 1000
        },
        "id": "ZcrrLxR8KAXC",
        "outputId": "ba341a03-47a7-4b30-98ab-91ad1de67dfa"
      },
      "outputs": [
        {
          "name": "stdout",
          "output_type": "stream",
          "text": [
            "Found existing installation: scipy 1.15.3\n",
            "Uninstalling scipy-1.15.3:\n",
            "  Successfully uninstalled scipy-1.15.3\n",
            "Found existing installation: numpy 2.0.2\n",
            "Uninstalling numpy-2.0.2:\n",
            "  Successfully uninstalled numpy-2.0.2\n",
            "\u001b[33mWARNING: Skipping tensorflow as it is not installed.\u001b[0m\u001b[33m\n",
            "\u001b[0m\u001b[33mWARNING: Skipping tensorflow-addons as it is not installed.\u001b[0m\u001b[33m\n",
            "\u001b[0mCollecting numpy==1.23.5\n",
            "  Downloading numpy-1.23.5-cp311-cp311-manylinux_2_17_x86_64.manylinux2014_x86_64.whl.metadata (2.3 kB)\n",
            "Downloading numpy-1.23.5-cp311-cp311-manylinux_2_17_x86_64.manylinux2014_x86_64.whl (17.1 MB)\n",
            "\u001b[2K   \u001b[90m━━━━━━━━━━━━━━━━━━━━━━━━━━━━━━━━━━━━━━━━\u001b[0m \u001b[32m17.1/17.1 MB\u001b[0m \u001b[31m104.2 MB/s\u001b[0m eta \u001b[36m0:00:00\u001b[0m\n",
            "\u001b[?25hInstalling collected packages: numpy\n",
            "\u001b[31mERROR: pip's dependency resolver does not currently take into account all the packages that are installed. This behaviour is the source of the following dependency conflicts.\n",
            "librosa 0.11.0 requires scipy>=1.6.0, which is not installed.\n",
            "fastai 2.7.19 requires scipy, which is not installed.\n",
            "jax 0.5.2 requires scipy>=1.11.1, which is not installed.\n",
            "scikit-learn 1.6.1 requires scipy>=1.6.0, which is not installed.\n",
            "sklearn-pandas 2.2.0 requires scipy>=1.5.1, which is not installed.\n",
            "scikit-image 0.25.2 requires scipy>=1.11.4, which is not installed.\n",
            "jaxlib 0.5.1 requires scipy>=1.11.1, which is not installed.\n",
            "thinc 8.3.6 requires numpy<3.0.0,>=2.0.0, but you have numpy 1.23.5 which is incompatible.\n",
            "jax 0.5.2 requires numpy>=1.25, but you have numpy 1.23.5 which is incompatible.\n",
            "chex 0.1.89 requires numpy>=1.24.1, but you have numpy 1.23.5 which is incompatible.\n",
            "numba 0.61.2 requires numpy<2.3,>=1.24, but you have numpy 1.23.5 which is incompatible.\n",
            "treescope 0.1.9 requires numpy>=1.25.2, but you have numpy 1.23.5 which is incompatible.\n",
            "scikit-image 0.25.2 requires numpy>=1.24, but you have numpy 1.23.5 which is incompatible.\n",
            "jaxlib 0.5.1 requires numpy>=1.25, but you have numpy 1.23.5 which is incompatible.\u001b[0m\u001b[31m\n",
            "\u001b[0mSuccessfully installed numpy-1.23.5\n"
          ]
        },
        {
          "data": {
            "application/vnd.colab-display-data+json": {
              "id": "071bd99788fc42219d07c30faa0763e4",
              "pip_warning": {
                "packages": [
                  "numpy"
                ]
              }
            }
          },
          "metadata": {},
          "output_type": "display_data"
        },
        {
          "name": "stdout",
          "output_type": "stream",
          "text": [
            "Collecting scipy==1.10.1\n",
            "  Downloading scipy-1.10.1-cp311-cp311-manylinux_2_17_x86_64.manylinux2014_x86_64.whl.metadata (58 kB)\n",
            "\u001b[?25l     \u001b[90m━━━━━━━━━━━━━━━━━━━━━━━━━━━━━━━━━━━━━━━━\u001b[0m \u001b[32m0.0/58.9 kB\u001b[0m \u001b[31m?\u001b[0m eta \u001b[36m-:--:--\u001b[0m\r\u001b[2K     \u001b[90m━━━━━━━━━━━━━━━━━━━━━━━━━━━━━━━━━━━━━━━━\u001b[0m \u001b[32m58.9/58.9 kB\u001b[0m \u001b[31m1.8 MB/s\u001b[0m eta \u001b[36m0:00:00\u001b[0m\n",
            "\u001b[?25hRequirement already satisfied: numpy<1.27.0,>=1.19.5 in /usr/local/lib/python3.11/dist-packages (from scipy==1.10.1) (1.23.5)\n",
            "Downloading scipy-1.10.1-cp311-cp311-manylinux_2_17_x86_64.manylinux2014_x86_64.whl (34.1 MB)\n",
            "\u001b[2K   \u001b[90m━━━━━━━━━━━━━━━━━━━━━━━━━━━━━━━━━━━━━━━━\u001b[0m \u001b[32m34.1/34.1 MB\u001b[0m \u001b[31m46.4 MB/s\u001b[0m eta \u001b[36m0:00:00\u001b[0m\n",
            "\u001b[?25hInstalling collected packages: scipy\n",
            "\u001b[31mERROR: pip's dependency resolver does not currently take into account all the packages that are installed. This behaviour is the source of the following dependency conflicts.\n",
            "jax 0.5.2 requires numpy>=1.25, but you have numpy 1.23.5 which is incompatible.\n",
            "jax 0.5.2 requires scipy>=1.11.1, but you have scipy 1.10.1 which is incompatible.\n",
            "chex 0.1.89 requires numpy>=1.24.1, but you have numpy 1.23.5 which is incompatible.\n",
            "scikit-image 0.25.2 requires numpy>=1.24, but you have numpy 1.23.5 which is incompatible.\n",
            "scikit-image 0.25.2 requires scipy>=1.11.4, but you have scipy 1.10.1 which is incompatible.\n",
            "jaxlib 0.5.1 requires numpy>=1.25, but you have numpy 1.23.5 which is incompatible.\n",
            "jaxlib 0.5.1 requires scipy>=1.11.1, but you have scipy 1.10.1 which is incompatible.\u001b[0m\u001b[31m\n",
            "\u001b[0mSuccessfully installed scipy-1.10.1\n",
            "Collecting tensorflow==2.12.0\n",
            "  Downloading tensorflow-2.12.0-cp311-cp311-manylinux_2_17_x86_64.manylinux2014_x86_64.whl.metadata (3.4 kB)\n",
            "Requirement already satisfied: absl-py>=1.0.0 in /usr/local/lib/python3.11/dist-packages (from tensorflow==2.12.0) (1.4.0)\n",
            "Collecting astunparse>=1.6.0 (from tensorflow==2.12.0)\n",
            "  Downloading astunparse-1.6.3-py2.py3-none-any.whl.metadata (4.4 kB)\n",
            "Collecting flatbuffers>=2.0 (from tensorflow==2.12.0)\n",
            "  Downloading flatbuffers-25.2.10-py2.py3-none-any.whl.metadata (875 bytes)\n",
            "Collecting gast<=0.4.0,>=0.2.1 (from tensorflow==2.12.0)\n",
            "  Downloading gast-0.4.0-py3-none-any.whl.metadata (1.1 kB)\n",
            "Collecting google-pasta>=0.1.1 (from tensorflow==2.12.0)\n",
            "  Downloading google_pasta-0.2.0-py3-none-any.whl.metadata (814 bytes)\n",
            "Requirement already satisfied: grpcio<2.0,>=1.24.3 in /usr/local/lib/python3.11/dist-packages (from tensorflow==2.12.0) (1.71.0)\n",
            "Requirement already satisfied: h5py>=2.9.0 in /usr/local/lib/python3.11/dist-packages (from tensorflow==2.12.0) (3.13.0)\n",
            "Requirement already satisfied: jax>=0.3.15 in /usr/local/lib/python3.11/dist-packages (from tensorflow==2.12.0) (0.5.2)\n",
            "Collecting keras<2.13,>=2.12.0 (from tensorflow==2.12.0)\n",
            "  Downloading keras-2.12.0-py2.py3-none-any.whl.metadata (1.4 kB)\n",
            "Collecting libclang>=13.0.0 (from tensorflow==2.12.0)\n",
            "  Downloading libclang-18.1.1-py2.py3-none-manylinux2010_x86_64.whl.metadata (5.2 kB)\n",
            "Requirement already satisfied: numpy<1.24,>=1.22 in /usr/local/lib/python3.11/dist-packages (from tensorflow==2.12.0) (1.23.5)\n",
            "Requirement already satisfied: opt-einsum>=2.3.2 in /usr/local/lib/python3.11/dist-packages (from tensorflow==2.12.0) (3.4.0)\n",
            "Requirement already satisfied: packaging in /usr/local/lib/python3.11/dist-packages (from tensorflow==2.12.0) (25.0)\n",
            "Collecting protobuf!=4.21.0,!=4.21.1,!=4.21.2,!=4.21.3,!=4.21.4,!=4.21.5,<5.0.0dev,>=3.20.3 (from tensorflow==2.12.0)\n",
            "  Downloading protobuf-4.25.7-cp37-abi3-manylinux2014_x86_64.whl.metadata (541 bytes)\n",
            "Requirement already satisfied: setuptools in /usr/local/lib/python3.11/dist-packages (from tensorflow==2.12.0) (75.2.0)\n",
            "Requirement already satisfied: six>=1.12.0 in /usr/local/lib/python3.11/dist-packages (from tensorflow==2.12.0) (1.17.0)\n",
            "Collecting tensorboard<2.13,>=2.12 (from tensorflow==2.12.0)\n",
            "  Downloading tensorboard-2.12.3-py3-none-any.whl.metadata (1.8 kB)\n",
            "Collecting tensorflow-estimator<2.13,>=2.12.0 (from tensorflow==2.12.0)\n",
            "  Downloading tensorflow_estimator-2.12.0-py2.py3-none-any.whl.metadata (1.3 kB)\n",
            "Requirement already satisfied: termcolor>=1.1.0 in /usr/local/lib/python3.11/dist-packages (from tensorflow==2.12.0) (3.1.0)\n",
            "Requirement already satisfied: typing-extensions>=3.6.6 in /usr/local/lib/python3.11/dist-packages (from tensorflow==2.12.0) (4.13.2)\n",
            "Collecting wrapt<1.15,>=1.11.0 (from tensorflow==2.12.0)\n",
            "  Downloading wrapt-1.14.1-cp311-cp311-manylinux_2_5_x86_64.manylinux1_x86_64.manylinux_2_17_x86_64.manylinux2014_x86_64.whl.metadata (6.7 kB)\n",
            "Collecting tensorflow-io-gcs-filesystem>=0.23.1 (from tensorflow==2.12.0)\n",
            "  Downloading tensorflow_io_gcs_filesystem-0.37.1-cp311-cp311-manylinux_2_17_x86_64.manylinux2014_x86_64.whl.metadata (14 kB)\n",
            "Collecting wheel<1.0,>=0.23.0 (from astunparse>=1.6.0->tensorflow==2.12.0)\n",
            "  Downloading wheel-0.45.1-py3-none-any.whl.metadata (2.3 kB)\n",
            "Requirement already satisfied: jaxlib<=0.5.2,>=0.5.1 in /usr/local/lib/python3.11/dist-packages (from jax>=0.3.15->tensorflow==2.12.0) (0.5.1)\n",
            "Requirement already satisfied: ml_dtypes>=0.4.0 in /usr/local/lib/python3.11/dist-packages (from jax>=0.3.15->tensorflow==2.12.0) (0.5.1)\n",
            "INFO: pip is looking at multiple versions of jax to determine which version is compatible with other requirements. This could take a while.\n",
            "Collecting jax>=0.3.15 (from tensorflow==2.12.0)\n",
            "  Downloading jax-0.6.0-py3-none-any.whl.metadata (22 kB)\n",
            "Collecting jaxlib<=0.6.0,>=0.6.0 (from jax>=0.3.15->tensorflow==2.12.0)\n",
            "  Downloading jaxlib-0.6.0-cp311-cp311-manylinux2014_x86_64.whl.metadata (1.2 kB)\n",
            "Collecting jax>=0.3.15 (from tensorflow==2.12.0)\n",
            "  Downloading jax-0.5.3-py3-none-any.whl.metadata (22 kB)\n",
            "Collecting jaxlib<=0.5.3,>=0.5.3 (from jax>=0.3.15->tensorflow==2.12.0)\n",
            "  Downloading jaxlib-0.5.3-cp311-cp311-manylinux2014_x86_64.whl.metadata (1.2 kB)\n",
            "Collecting jax>=0.3.15 (from tensorflow==2.12.0)\n",
            "  Downloading jax-0.5.1-py3-none-any.whl.metadata (22 kB)\n",
            "  Downloading jax-0.5.0-py3-none-any.whl.metadata (22 kB)\n",
            "Collecting jaxlib<=0.5.0,>=0.5.0 (from jax>=0.3.15->tensorflow==2.12.0)\n",
            "  Downloading jaxlib-0.5.0-cp311-cp311-manylinux2014_x86_64.whl.metadata (978 bytes)\n",
            "Collecting jax>=0.3.15 (from tensorflow==2.12.0)\n",
            "  Downloading jax-0.4.38-py3-none-any.whl.metadata (22 kB)\n",
            "Collecting jaxlib<=0.4.38,>=0.4.38 (from jax>=0.3.15->tensorflow==2.12.0)\n",
            "  Downloading jaxlib-0.4.38-cp311-cp311-manylinux2014_x86_64.whl.metadata (1.0 kB)\n",
            "Collecting jax>=0.3.15 (from tensorflow==2.12.0)\n",
            "  Downloading jax-0.4.37-py3-none-any.whl.metadata (22 kB)\n",
            "Collecting jaxlib<=0.4.37,>=0.4.36 (from jax>=0.3.15->tensorflow==2.12.0)\n",
            "  Downloading jaxlib-0.4.36-cp311-cp311-manylinux2014_x86_64.whl.metadata (1.0 kB)\n",
            "Collecting jax>=0.3.15 (from tensorflow==2.12.0)\n",
            "  Downloading jax-0.4.36-py3-none-any.whl.metadata (22 kB)\n",
            "INFO: pip is still looking at multiple versions of jax to determine which version is compatible with other requirements. This could take a while.\n",
            "  Downloading jax-0.4.35-py3-none-any.whl.metadata (22 kB)\n",
            "Collecting jaxlib<=0.4.35,>=0.4.34 (from jax>=0.3.15->tensorflow==2.12.0)\n",
            "  Downloading jaxlib-0.4.35-cp311-cp311-manylinux2014_x86_64.whl.metadata (983 bytes)\n",
            "Collecting jax>=0.3.15 (from tensorflow==2.12.0)\n",
            "  Downloading jax-0.4.34-py3-none-any.whl.metadata (22 kB)\n",
            "Collecting jaxlib<=0.4.34,>=0.4.34 (from jax>=0.3.15->tensorflow==2.12.0)\n",
            "  Downloading jaxlib-0.4.34-cp311-cp311-manylinux2014_x86_64.whl.metadata (983 bytes)\n",
            "Collecting jax>=0.3.15 (from tensorflow==2.12.0)\n",
            "  Downloading jax-0.4.33-py3-none-any.whl.metadata (22 kB)\n",
            "Collecting jaxlib<=0.4.33,>=0.4.33 (from jax>=0.3.15->tensorflow==2.12.0)\n",
            "  Downloading jaxlib-0.4.33-cp311-cp311-manylinux2014_x86_64.whl.metadata (983 bytes)\n",
            "Collecting jax>=0.3.15 (from tensorflow==2.12.0)\n",
            "  Downloading jax-0.4.31-py3-none-any.whl.metadata (22 kB)\n",
            "Collecting jaxlib<=0.4.31,>=0.4.30 (from jax>=0.3.15->tensorflow==2.12.0)\n",
            "  Downloading jaxlib-0.4.31-cp311-cp311-manylinux2014_x86_64.whl.metadata (983 bytes)\n",
            "Collecting jax>=0.3.15 (from tensorflow==2.12.0)\n",
            "  Downloading jax-0.4.30-py3-none-any.whl.metadata (22 kB)\n",
            "Collecting jaxlib<=0.4.30,>=0.4.27 (from jax>=0.3.15->tensorflow==2.12.0)\n",
            "  Downloading jaxlib-0.4.30-cp311-cp311-manylinux2014_x86_64.whl.metadata (1.0 kB)\n",
            "Requirement already satisfied: scipy>=1.9 in /usr/local/lib/python3.11/dist-packages (from jax>=0.3.15->tensorflow==2.12.0) (1.10.1)\n",
            "Requirement already satisfied: google-auth<3,>=1.6.3 in /usr/local/lib/python3.11/dist-packages (from tensorboard<2.13,>=2.12->tensorflow==2.12.0) (2.38.0)\n",
            "Collecting google-auth-oauthlib<1.1,>=0.5 (from tensorboard<2.13,>=2.12->tensorflow==2.12.0)\n",
            "  Downloading google_auth_oauthlib-1.0.0-py2.py3-none-any.whl.metadata (2.7 kB)\n",
            "Requirement already satisfied: markdown>=2.6.8 in /usr/lib/python3/dist-packages (from tensorboard<2.13,>=2.12->tensorflow==2.12.0) (3.3.6)\n",
            "Requirement already satisfied: requests<3,>=2.21.0 in /usr/local/lib/python3.11/dist-packages (from tensorboard<2.13,>=2.12->tensorflow==2.12.0) (2.32.3)\n",
            "Collecting tensorboard-data-server<0.8.0,>=0.7.0 (from tensorboard<2.13,>=2.12->tensorflow==2.12.0)\n",
            "  Downloading tensorboard_data_server-0.7.2-py3-none-manylinux_2_31_x86_64.whl.metadata (1.1 kB)\n",
            "Collecting werkzeug>=1.0.1 (from tensorboard<2.13,>=2.12->tensorflow==2.12.0)\n",
            "  Downloading werkzeug-3.1.3-py3-none-any.whl.metadata (3.7 kB)\n",
            "Requirement already satisfied: cachetools<6.0,>=2.0.0 in /usr/local/lib/python3.11/dist-packages (from google-auth<3,>=1.6.3->tensorboard<2.13,>=2.12->tensorflow==2.12.0) (5.5.2)\n",
            "Requirement already satisfied: pyasn1-modules>=0.2.1 in /usr/local/lib/python3.11/dist-packages (from google-auth<3,>=1.6.3->tensorboard<2.13,>=2.12->tensorflow==2.12.0) (0.4.2)\n",
            "Requirement already satisfied: rsa<5,>=3.1.4 in /usr/local/lib/python3.11/dist-packages (from google-auth<3,>=1.6.3->tensorboard<2.13,>=2.12->tensorflow==2.12.0) (4.9.1)\n",
            "Requirement already satisfied: requests-oauthlib>=0.7.0 in /usr/local/lib/python3.11/dist-packages (from google-auth-oauthlib<1.1,>=0.5->tensorboard<2.13,>=2.12->tensorflow==2.12.0) (2.0.0)\n",
            "Requirement already satisfied: charset-normalizer<4,>=2 in /usr/local/lib/python3.11/dist-packages (from requests<3,>=2.21.0->tensorboard<2.13,>=2.12->tensorflow==2.12.0) (3.4.2)\n",
            "Requirement already satisfied: idna<4,>=2.5 in /usr/local/lib/python3.11/dist-packages (from requests<3,>=2.21.0->tensorboard<2.13,>=2.12->tensorflow==2.12.0) (3.10)\n",
            "Requirement already satisfied: urllib3<3,>=1.21.1 in /usr/local/lib/python3.11/dist-packages (from requests<3,>=2.21.0->tensorboard<2.13,>=2.12->tensorflow==2.12.0) (2.4.0)\n",
            "Requirement already satisfied: certifi>=2017.4.17 in /usr/local/lib/python3.11/dist-packages (from requests<3,>=2.21.0->tensorboard<2.13,>=2.12->tensorflow==2.12.0) (2025.4.26)\n",
            "Requirement already satisfied: MarkupSafe>=2.1.1 in /usr/local/lib/python3.11/dist-packages (from werkzeug>=1.0.1->tensorboard<2.13,>=2.12->tensorflow==2.12.0) (3.0.2)\n",
            "Requirement already satisfied: pyasn1<0.7.0,>=0.6.1 in /usr/local/lib/python3.11/dist-packages (from pyasn1-modules>=0.2.1->google-auth<3,>=1.6.3->tensorboard<2.13,>=2.12->tensorflow==2.12.0) (0.6.1)\n",
            "Requirement already satisfied: oauthlib>=3.0.0 in /usr/local/lib/python3.11/dist-packages (from requests-oauthlib>=0.7.0->google-auth-oauthlib<1.1,>=0.5->tensorboard<2.13,>=2.12->tensorflow==2.12.0) (3.2.2)\n",
            "Downloading tensorflow-2.12.0-cp311-cp311-manylinux_2_17_x86_64.manylinux2014_x86_64.whl (586.0 MB)\n",
            "\u001b[2K   \u001b[90m━━━━━━━━━━━━━━━━━━━━━━━━━━━━━━━━━━━━━━━━\u001b[0m \u001b[32m586.0/586.0 MB\u001b[0m \u001b[31m1.2 MB/s\u001b[0m eta \u001b[36m0:00:00\u001b[0m\n",
            "\u001b[?25hDownloading astunparse-1.6.3-py2.py3-none-any.whl (12 kB)\n",
            "Downloading flatbuffers-25.2.10-py2.py3-none-any.whl (30 kB)\n",
            "Downloading gast-0.4.0-py3-none-any.whl (9.8 kB)\n",
            "Downloading google_pasta-0.2.0-py3-none-any.whl (57 kB)\n",
            "\u001b[2K   \u001b[90m━━━━━━━━━━━━━━━━━━━━━━━━━━━━━━━━━━━━━━━━\u001b[0m \u001b[32m57.5/57.5 kB\u001b[0m \u001b[31m3.5 MB/s\u001b[0m eta \u001b[36m0:00:00\u001b[0m\n",
            "\u001b[?25hDownloading jax-0.4.30-py3-none-any.whl (2.0 MB)\n",
            "\u001b[2K   \u001b[90m━━━━━━━━━━━━━━━━━━━━━━━━━━━━━━━━━━━━━━━━\u001b[0m \u001b[32m2.0/2.0 MB\u001b[0m \u001b[31m73.0 MB/s\u001b[0m eta \u001b[36m0:00:00\u001b[0m\n",
            "\u001b[?25hDownloading keras-2.12.0-py2.py3-none-any.whl (1.7 MB)\n",
            "\u001b[2K   \u001b[90m━━━━━━━━━━━━━━━━━━━━━━━━━━━━━━━━━━━━━━━━\u001b[0m \u001b[32m1.7/1.7 MB\u001b[0m \u001b[31m64.2 MB/s\u001b[0m eta \u001b[36m0:00:00\u001b[0m\n",
            "\u001b[?25hDownloading libclang-18.1.1-py2.py3-none-manylinux2010_x86_64.whl (24.5 MB)\n",
            "\u001b[2K   \u001b[90m━━━━━━━━━━━━━━━━━━━━━━━━━━━━━━━━━━━━━━━━\u001b[0m \u001b[32m24.5/24.5 MB\u001b[0m \u001b[31m79.4 MB/s\u001b[0m eta \u001b[36m0:00:00\u001b[0m\n",
            "\u001b[?25hDownloading protobuf-4.25.7-cp37-abi3-manylinux2014_x86_64.whl (294 kB)\n",
            "\u001b[2K   \u001b[90m━━━━━━━━━━━━━━━━━━━━━━━━━━━━━━━━━━━━━━━━\u001b[0m \u001b[32m294.6/294.6 kB\u001b[0m \u001b[31m17.8 MB/s\u001b[0m eta \u001b[36m0:00:00\u001b[0m\n",
            "\u001b[?25hDownloading tensorboard-2.12.3-py3-none-any.whl (5.6 MB)\n",
            "\u001b[2K   \u001b[90m━━━━━━━━━━━━━━━━━━━━━━━━━━━━━━━━━━━━━━━━\u001b[0m \u001b[32m5.6/5.6 MB\u001b[0m \u001b[31m113.3 MB/s\u001b[0m eta \u001b[36m0:00:00\u001b[0m\n",
            "\u001b[?25hDownloading tensorflow_estimator-2.12.0-py2.py3-none-any.whl (440 kB)\n",
            "\u001b[2K   \u001b[90m━━━━━━━━━━━━━━━━━━━━━━━━━━━━━━━━━━━━━━━━\u001b[0m \u001b[32m440.7/440.7 kB\u001b[0m \u001b[31m22.9 MB/s\u001b[0m eta \u001b[36m0:00:00\u001b[0m\n",
            "\u001b[?25hDownloading tensorflow_io_gcs_filesystem-0.37.1-cp311-cp311-manylinux_2_17_x86_64.manylinux2014_x86_64.whl (5.1 MB)\n",
            "\u001b[2K   \u001b[90m━━━━━━━━━━━━━━━━━━━━━━━━━━━━━━━━━━━━━━━━\u001b[0m \u001b[32m5.1/5.1 MB\u001b[0m \u001b[31m108.8 MB/s\u001b[0m eta \u001b[36m0:00:00\u001b[0m\n",
            "\u001b[?25hDownloading wrapt-1.14.1-cp311-cp311-manylinux_2_5_x86_64.manylinux1_x86_64.manylinux_2_17_x86_64.manylinux2014_x86_64.whl (78 kB)\n",
            "\u001b[2K   \u001b[90m━━━━━━━━━━━━━━━━━━━━━━━━━━━━━━━━━━━━━━━━\u001b[0m \u001b[32m78.4/78.4 kB\u001b[0m \u001b[31m5.1 MB/s\u001b[0m eta \u001b[36m0:00:00\u001b[0m\n",
            "\u001b[?25hDownloading google_auth_oauthlib-1.0.0-py2.py3-none-any.whl (18 kB)\n",
            "Downloading jaxlib-0.4.30-cp311-cp311-manylinux2014_x86_64.whl (79.6 MB)\n",
            "\u001b[2K   \u001b[90m━━━━━━━━━━━━━━━━━━━━━━━━━━━━━━━━━━━━━━━━\u001b[0m \u001b[32m79.6/79.6 MB\u001b[0m \u001b[31m15.3 MB/s\u001b[0m eta \u001b[36m0:00:00\u001b[0m\n",
            "\u001b[?25hDownloading tensorboard_data_server-0.7.2-py3-none-manylinux_2_31_x86_64.whl (6.6 MB)\n",
            "\u001b[2K   \u001b[90m━━━━━━━━━━━━━━━━━━━━━━━━━━━━━━━━━━━━━━━━\u001b[0m \u001b[32m6.6/6.6 MB\u001b[0m \u001b[31m120.0 MB/s\u001b[0m eta \u001b[36m0:00:00\u001b[0m\n",
            "\u001b[?25hDownloading werkzeug-3.1.3-py3-none-any.whl (224 kB)\n",
            "\u001b[2K   \u001b[90m━━━━━━━━━━━━━━━━━━━━━━━━━━━━━━━━━━━━━━━━\u001b[0m \u001b[32m224.5/224.5 kB\u001b[0m \u001b[31m13.9 MB/s\u001b[0m eta \u001b[36m0:00:00\u001b[0m\n",
            "\u001b[?25hDownloading wheel-0.45.1-py3-none-any.whl (72 kB)\n",
            "\u001b[2K   \u001b[90m━━━━━━━━━━━━━━━━━━━━━━━━━━━━━━━━━━━━━━━━\u001b[0m \u001b[32m72.5/72.5 kB\u001b[0m \u001b[31m4.7 MB/s\u001b[0m eta \u001b[36m0:00:00\u001b[0m\n",
            "\u001b[?25hInstalling collected packages: libclang, flatbuffers, wrapt, wheel, werkzeug, tensorflow-io-gcs-filesystem, tensorflow-estimator, tensorboard-data-server, protobuf, keras, google-pasta, gast, jaxlib, astunparse, jax, google-auth-oauthlib, tensorboard, tensorflow\n",
            "  Attempting uninstall: wrapt\n",
            "    Found existing installation: wrapt 1.17.2\n",
            "    Uninstalling wrapt-1.17.2:\n",
            "      Successfully uninstalled wrapt-1.17.2\n",
            "  Attempting uninstall: protobuf\n",
            "    Found existing installation: protobuf 5.29.4\n",
            "    Uninstalling protobuf-5.29.4:\n",
            "      Successfully uninstalled protobuf-5.29.4\n",
            "  Attempting uninstall: keras\n",
            "    Found existing installation: keras 3.8.0\n",
            "    Uninstalling keras-3.8.0:\n",
            "      Successfully uninstalled keras-3.8.0\n",
            "  Attempting uninstall: gast\n",
            "    Found existing installation: gast 0.6.0\n",
            "    Uninstalling gast-0.6.0:\n",
            "      Successfully uninstalled gast-0.6.0\n",
            "  Attempting uninstall: jaxlib\n",
            "    Found existing installation: jaxlib 0.5.1\n",
            "    Uninstalling jaxlib-0.5.1:\n",
            "      Successfully uninstalled jaxlib-0.5.1\n",
            "  Attempting uninstall: jax\n",
            "    Found existing installation: jax 0.5.2\n",
            "    Uninstalling jax-0.5.2:\n",
            "      Successfully uninstalled jax-0.5.2\n",
            "  Attempting uninstall: google-auth-oauthlib\n",
            "    Found existing installation: google-auth-oauthlib 1.2.2\n",
            "    Uninstalling google-auth-oauthlib-1.2.2:\n",
            "      Successfully uninstalled google-auth-oauthlib-1.2.2\n",
            "\u001b[31mERROR: pip's dependency resolver does not currently take into account all the packages that are installed. This behaviour is the source of the following dependency conflicts.\n",
            "chex 0.1.89 requires numpy>=1.24.1, but you have numpy 1.23.5 which is incompatible.\n",
            "flax 0.10.6 requires jax>=0.5.1, but you have jax 0.4.30 which is incompatible.\n",
            "orbax-checkpoint 0.11.13 requires jax>=0.5.0, but you have jax 0.4.30 which is incompatible.\u001b[0m\u001b[31m\n",
            "\u001b[0mSuccessfully installed astunparse-1.6.3 flatbuffers-25.2.10 gast-0.4.0 google-auth-oauthlib-1.0.0 google-pasta-0.2.0 jax-0.4.30 jaxlib-0.4.30 keras-2.12.0 libclang-18.1.1 protobuf-4.25.7 tensorboard-2.12.3 tensorboard-data-server-0.7.2 tensorflow-2.12.0 tensorflow-estimator-2.12.0 tensorflow-io-gcs-filesystem-0.37.1 werkzeug-3.1.3 wheel-0.45.1 wrapt-1.14.1\n",
            "Collecting tensorflow-addons==0.20.0\n",
            "  Downloading tensorflow_addons-0.20.0-cp311-cp311-manylinux_2_17_x86_64.manylinux2014_x86_64.whl.metadata (1.8 kB)\n",
            "Requirement already satisfied: packaging in /usr/local/lib/python3.11/dist-packages (from tensorflow-addons==0.20.0) (25.0)\n",
            "Collecting typeguard<3.0.0,>=2.7 (from tensorflow-addons==0.20.0)\n",
            "  Downloading typeguard-2.13.3-py3-none-any.whl.metadata (3.6 kB)\n",
            "Downloading tensorflow_addons-0.20.0-cp311-cp311-manylinux_2_17_x86_64.manylinux2014_x86_64.whl (591 kB)\n",
            "\u001b[2K   \u001b[90m━━━━━━━━━━━━━━━━━━━━━━━━━━━━━━━━━━━━━━━━\u001b[0m \u001b[32m591.0/591.0 kB\u001b[0m \u001b[31m7.9 MB/s\u001b[0m eta \u001b[36m0:00:00\u001b[0m\n",
            "\u001b[?25hDownloading typeguard-2.13.3-py3-none-any.whl (17 kB)\n",
            "Installing collected packages: typeguard, tensorflow-addons\n",
            "Successfully installed tensorflow-addons-0.20.0 typeguard-2.13.3\n",
            "\u001b[33mWARNING: Skipping tf-keras as it is not installed.\u001b[0m\u001b[33m\n",
            "\u001b[0m\u001b[31mERROR: Ignored the following yanked versions: 2.20.0\u001b[0m\u001b[31m\n",
            "\u001b[0m\u001b[31mERROR: Could not find a version that satisfies the requirement tf-keras==2.12.0 (from versions: 2.14.1, 2.15.0rc0, 2.15.0rc1, 2.15.0, 2.15.1rc0, 2.15.1, 2.16.0rc0, 2.16.0rc1, 2.16.0rc2, 2.16.0rc3, 2.16.0rc4, 2.16.0, 2.17.0rc0, 2.17.0, 2.18.0rc0, 2.18.0, 2.19.0rc0, 2.19.0)\u001b[0m\u001b[31m\n",
            "\u001b[0m\u001b[31mERROR: No matching distribution found for tf-keras==2.12.0\u001b[0m\u001b[31m\n",
            "\u001b[0mCollecting conllu\n",
            "  Downloading conllu-6.0.0-py3-none-any.whl.metadata (21 kB)\n",
            "Downloading conllu-6.0.0-py3-none-any.whl (16 kB)\n",
            "Installing collected packages: conllu\n",
            "Successfully installed conllu-6.0.0\n",
            "Collecting gensim\n",
            "  Downloading gensim-4.3.3-cp311-cp311-manylinux_2_17_x86_64.manylinux2014_x86_64.whl.metadata (8.1 kB)\n",
            "Requirement already satisfied: numpy<2.0,>=1.18.5 in /usr/local/lib/python3.11/dist-packages (from gensim) (1.23.5)\n",
            "Requirement already satisfied: scipy<1.14.0,>=1.7.0 in /usr/local/lib/python3.11/dist-packages (from gensim) (1.10.1)\n",
            "Requirement already satisfied: smart-open>=1.8.1 in /usr/local/lib/python3.11/dist-packages (from gensim) (7.1.0)\n",
            "Requirement already satisfied: wrapt in /usr/local/lib/python3.11/dist-packages (from smart-open>=1.8.1->gensim) (1.14.1)\n",
            "Downloading gensim-4.3.3-cp311-cp311-manylinux_2_17_x86_64.manylinux2014_x86_64.whl (26.7 MB)\n",
            "\u001b[2K   \u001b[90m━━━━━━━━━━━━━━━━━━━━━━━━━━━━━━━━━━━━━━━━\u001b[0m \u001b[32m26.7/26.7 MB\u001b[0m \u001b[31m69.2 MB/s\u001b[0m eta \u001b[36m0:00:00\u001b[0m\n",
            "\u001b[?25hInstalling collected packages: gensim\n",
            "Successfully installed gensim-4.3.3\n",
            "Collecting git+https://www.github.com/keras-team/keras-contrib.git\n",
            "  Cloning https://www.github.com/keras-team/keras-contrib.git to /tmp/pip-req-build-7f4ueqd6\n",
            "  Running command git clone --filter=blob:none --quiet https://www.github.com/keras-team/keras-contrib.git /tmp/pip-req-build-7f4ueqd6\n",
            "  warning: redirecting to https://github.com/keras-team/keras-contrib.git/\n",
            "  Resolved https://www.github.com/keras-team/keras-contrib.git to commit 3fc5ef709e061416f4bc8a92ca3750c824b5d2b0\n",
            "  Preparing metadata (setup.py) ... \u001b[?25l\u001b[?25hdone\n",
            "Requirement already satisfied: keras in /usr/local/lib/python3.11/dist-packages (from keras_contrib==2.0.8) (2.12.0)\n",
            "Building wheels for collected packages: keras_contrib\n",
            "  Building wheel for keras_contrib (setup.py) ... \u001b[?25l\u001b[?25hdone\n",
            "  Created wheel for keras_contrib: filename=keras_contrib-2.0.8-py3-none-any.whl size=101058 sha256=9807793c27dd0848fa24326ae130e39582b6c1252b963f811d89d5d9676b4be5\n",
            "  Stored in directory: /tmp/pip-ephem-wheel-cache-qfmjo1hi/wheels/51/5f/dc/dade7fdf81085b847dde4bd2fa307f2e0f67a26400031d0c27\n",
            "Successfully built keras_contrib\n",
            "Installing collected packages: keras_contrib\n",
            "Successfully installed keras_contrib-2.0.8\n",
            "Collecting pyarabic\n",
            "  Downloading PyArabic-0.6.15-py3-none-any.whl.metadata (10 kB)\n",
            "Collecting camel-tools\n",
            "  Downloading camel_tools-1.5.6-py3-none-any.whl.metadata (10 kB)\n",
            "Requirement already satisfied: six>=1.14.0 in /usr/local/lib/python3.11/dist-packages (from pyarabic) (1.17.0)\n",
            "Collecting future (from camel-tools)\n",
            "  Downloading future-1.0.0-py3-none-any.whl.metadata (4.0 kB)\n",
            "Collecting docopt (from camel-tools)\n",
            "  Downloading docopt-0.6.2.tar.gz (25 kB)\n",
            "  Preparing metadata (setup.py) ... \u001b[?25l\u001b[?25hdone\n",
            "Requirement already satisfied: cachetools in /usr/local/lib/python3.11/dist-packages (from camel-tools) (5.5.2)\n",
            "Requirement already satisfied: numpy<2 in /usr/local/lib/python3.11/dist-packages (from camel-tools) (1.23.5)\n",
            "Requirement already satisfied: scipy in /usr/local/lib/python3.11/dist-packages (from camel-tools) (1.10.1)\n",
            "Requirement already satisfied: pandas in /usr/local/lib/python3.11/dist-packages (from camel-tools) (2.2.2)\n",
            "Requirement already satisfied: scikit-learn in /usr/local/lib/python3.11/dist-packages (from camel-tools) (1.6.1)\n",
            "Collecting dill (from camel-tools)\n",
            "  Downloading dill-0.4.0-py3-none-any.whl.metadata (10 kB)\n",
            "Requirement already satisfied: torch>=2.0 in /usr/local/lib/python3.11/dist-packages (from camel-tools) (2.6.0+cpu)\n",
            "Collecting transformers<4.44.0,>=4.0 (from camel-tools)\n",
            "  Downloading transformers-4.43.4-py3-none-any.whl.metadata (43 kB)\n",
            "\u001b[2K     \u001b[90m━━━━━━━━━━━━━━━━━━━━━━━━━━━━━━━━━━━━━━━━\u001b[0m \u001b[32m43.7/43.7 kB\u001b[0m \u001b[31m2.1 MB/s\u001b[0m eta \u001b[36m0:00:00\u001b[0m\n",
            "\u001b[?25hCollecting editdistance (from camel-tools)\n",
            "  Downloading editdistance-0.8.1-cp311-cp311-manylinux_2_17_x86_64.manylinux2014_x86_64.whl.metadata (3.9 kB)\n",
            "Requirement already satisfied: requests in /usr/local/lib/python3.11/dist-packages (from camel-tools) (2.32.3)\n",
            "Collecting emoji (from camel-tools)\n",
            "  Downloading emoji-2.14.1-py3-none-any.whl.metadata (5.7 kB)\n",
            "Collecting pyrsistent (from camel-tools)\n",
            "  Downloading pyrsistent-0.20.0-cp311-cp311-manylinux_2_17_x86_64.manylinux2014_x86_64.whl.metadata (27 kB)\n",
            "Collecting tabulate (from camel-tools)\n",
            "  Downloading tabulate-0.9.0-py3-none-any.whl.metadata (34 kB)\n",
            "Requirement already satisfied: tqdm in /usr/local/lib/python3.11/dist-packages (from camel-tools) (4.67.1)\n",
            "Collecting muddler (from camel-tools)\n",
            "  Downloading muddler-0.1.3-py3-none-any.whl.metadata (7.5 kB)\n",
            "Collecting camel-kenlm>=2025.4.8 (from camel-tools)\n",
            "  Downloading camel-kenlm-2025.4.8.zip (556 kB)\n",
            "\u001b[2K     \u001b[90m━━━━━━━━━━━━━━━━━━━━━━━━━━━━━━━━━━━━━━\u001b[0m \u001b[32m556.5/556.5 kB\u001b[0m \u001b[31m11.3 MB/s\u001b[0m eta \u001b[36m0:00:00\u001b[0m\n",
            "\u001b[?25h  Installing build dependencies ... \u001b[?25l\u001b[?25hdone\n",
            "  Getting requirements to build wheel ... \u001b[?25l\u001b[?25hdone\n",
            "  Preparing metadata (pyproject.toml) ... \u001b[?25l\u001b[?25hdone\n",
            "Requirement already satisfied: filelock in /usr/local/lib/python3.11/dist-packages (from torch>=2.0->camel-tools) (3.18.0)\n",
            "Requirement already satisfied: typing-extensions>=4.10.0 in /usr/local/lib/python3.11/dist-packages (from torch>=2.0->camel-tools) (4.13.2)\n",
            "Requirement already satisfied: networkx in /usr/local/lib/python3.11/dist-packages (from torch>=2.0->camel-tools) (3.4.2)\n",
            "Requirement already satisfied: jinja2 in /usr/local/lib/python3.11/dist-packages (from torch>=2.0->camel-tools) (3.1.6)\n",
            "Requirement already satisfied: fsspec in /usr/local/lib/python3.11/dist-packages (from torch>=2.0->camel-tools) (2025.3.2)\n",
            "Requirement already satisfied: sympy==1.13.1 in /usr/local/lib/python3.11/dist-packages (from torch>=2.0->camel-tools) (1.13.1)\n",
            "Requirement already satisfied: mpmath<1.4,>=1.1.0 in /usr/local/lib/python3.11/dist-packages (from sympy==1.13.1->torch>=2.0->camel-tools) (1.3.0)\n",
            "Requirement already satisfied: huggingface-hub<1.0,>=0.23.2 in /usr/local/lib/python3.11/dist-packages (from transformers<4.44.0,>=4.0->camel-tools) (0.31.2)\n",
            "Requirement already satisfied: packaging>=20.0 in /usr/local/lib/python3.11/dist-packages (from transformers<4.44.0,>=4.0->camel-tools) (25.0)\n",
            "Requirement already satisfied: pyyaml>=5.1 in /usr/local/lib/python3.11/dist-packages (from transformers<4.44.0,>=4.0->camel-tools) (6.0.2)\n",
            "Requirement already satisfied: regex!=2019.12.17 in /usr/local/lib/python3.11/dist-packages (from transformers<4.44.0,>=4.0->camel-tools) (2024.11.6)\n",
            "Requirement already satisfied: safetensors>=0.4.1 in /usr/local/lib/python3.11/dist-packages (from transformers<4.44.0,>=4.0->camel-tools) (0.5.3)\n",
            "Collecting tokenizers<0.20,>=0.19 (from transformers<4.44.0,>=4.0->camel-tools)\n",
            "  Downloading tokenizers-0.19.1-cp311-cp311-manylinux_2_17_x86_64.manylinux2014_x86_64.whl.metadata (6.7 kB)\n",
            "Requirement already satisfied: python-dateutil>=2.8.2 in /usr/local/lib/python3.11/dist-packages (from pandas->camel-tools) (2.9.0.post0)\n",
            "Requirement already satisfied: pytz>=2020.1 in /usr/local/lib/python3.11/dist-packages (from pandas->camel-tools) (2025.2)\n",
            "Requirement already satisfied: tzdata>=2022.7 in /usr/local/lib/python3.11/dist-packages (from pandas->camel-tools) (2025.2)\n",
            "Requirement already satisfied: charset-normalizer<4,>=2 in /usr/local/lib/python3.11/dist-packages (from requests->camel-tools) (3.4.2)\n",
            "Requirement already satisfied: idna<4,>=2.5 in /usr/local/lib/python3.11/dist-packages (from requests->camel-tools) (3.10)\n",
            "Requirement already satisfied: urllib3<3,>=1.21.1 in /usr/local/lib/python3.11/dist-packages (from requests->camel-tools) (2.4.0)\n",
            "Requirement already satisfied: certifi>=2017.4.17 in /usr/local/lib/python3.11/dist-packages (from requests->camel-tools) (2025.4.26)\n",
            "Requirement already satisfied: joblib>=1.2.0 in /usr/local/lib/python3.11/dist-packages (from scikit-learn->camel-tools) (1.5.0)\n",
            "Requirement already satisfied: threadpoolctl>=3.1.0 in /usr/local/lib/python3.11/dist-packages (from scikit-learn->camel-tools) (3.6.0)\n",
            "Requirement already satisfied: MarkupSafe>=2.0 in /usr/local/lib/python3.11/dist-packages (from jinja2->torch>=2.0->camel-tools) (3.0.2)\n",
            "Downloading PyArabic-0.6.15-py3-none-any.whl (126 kB)\n",
            "\u001b[2K   \u001b[90m━━━━━━━━━━━━━━━━━━━━━━━━━━━━━━━━━━━━━━━━\u001b[0m \u001b[32m126.4/126.4 kB\u001b[0m \u001b[31m7.1 MB/s\u001b[0m eta \u001b[36m0:00:00\u001b[0m\n",
            "\u001b[?25hDownloading camel_tools-1.5.6-py3-none-any.whl (124 kB)\n",
            "\u001b[2K   \u001b[90m━━━━━━━━━━━━━━━━━━━━━━━━━━━━━━━━━━━━━━━━\u001b[0m \u001b[32m124.7/124.7 kB\u001b[0m \u001b[31m7.8 MB/s\u001b[0m eta \u001b[36m0:00:00\u001b[0m\n",
            "\u001b[?25hDownloading transformers-4.43.4-py3-none-any.whl (9.4 MB)\n",
            "\u001b[2K   \u001b[90m━━━━━━━━━━━━━━━━━━━━━━━━━━━━━━━━━━━━━━━━\u001b[0m \u001b[32m9.4/9.4 MB\u001b[0m \u001b[31m110.0 MB/s\u001b[0m eta \u001b[36m0:00:00\u001b[0m\n",
            "\u001b[?25hDownloading dill-0.4.0-py3-none-any.whl (119 kB)\n",
            "\u001b[2K   \u001b[90m━━━━━━━━━━━━━━━━━━━━━━━━━━━━━━━━━━━━━━━━\u001b[0m \u001b[32m119.7/119.7 kB\u001b[0m \u001b[31m7.4 MB/s\u001b[0m eta \u001b[36m0:00:00\u001b[0m\n",
            "\u001b[?25hDownloading editdistance-0.8.1-cp311-cp311-manylinux_2_17_x86_64.manylinux2014_x86_64.whl (412 kB)\n",
            "\u001b[2K   \u001b[90m━━━━━━━━━━━━━━━━━━━━━━━━━━━━━━━━━━━━━━━━\u001b[0m \u001b[32m412.9/412.9 kB\u001b[0m \u001b[31m27.9 MB/s\u001b[0m eta \u001b[36m0:00:00\u001b[0m\n",
            "\u001b[?25hDownloading emoji-2.14.1-py3-none-any.whl (590 kB)\n",
            "\u001b[2K   \u001b[90m━━━━━━━━━━━━━━━━━━━━━━━━━━━━━━━━━━━━━━━━\u001b[0m \u001b[32m590.6/590.6 kB\u001b[0m \u001b[31m31.1 MB/s\u001b[0m eta \u001b[36m0:00:00\u001b[0m\n",
            "\u001b[?25hDownloading future-1.0.0-py3-none-any.whl (491 kB)\n",
            "\u001b[2K   \u001b[90m━━━━━━━━━━━━━━━━━━━━━━━━━━━━━━━━━━━━━━━━\u001b[0m \u001b[32m491.3/491.3 kB\u001b[0m \u001b[31m26.4 MB/s\u001b[0m eta \u001b[36m0:00:00\u001b[0m\n",
            "\u001b[?25hDownloading muddler-0.1.3-py3-none-any.whl (16 kB)\n",
            "Downloading pyrsistent-0.20.0-cp311-cp311-manylinux_2_17_x86_64.manylinux2014_x86_64.whl (120 kB)\n",
            "\u001b[2K   \u001b[90m━━━━━━━━━━━━━━━━━━━━━━━━━━━━━━━━━━━━━━━━\u001b[0m \u001b[32m120.0/120.0 kB\u001b[0m \u001b[31m6.7 MB/s\u001b[0m eta \u001b[36m0:00:00\u001b[0m\n",
            "\u001b[?25hDownloading tabulate-0.9.0-py3-none-any.whl (35 kB)\n",
            "Downloading tokenizers-0.19.1-cp311-cp311-manylinux_2_17_x86_64.manylinux2014_x86_64.whl (3.6 MB)\n",
            "\u001b[2K   \u001b[90m━━━━━━━━━━━━━━━━━━━━━━━━━━━━━━━━━━━━━━━━\u001b[0m \u001b[32m3.6/3.6 MB\u001b[0m \u001b[31m95.4 MB/s\u001b[0m eta \u001b[36m0:00:00\u001b[0m\n",
            "\u001b[?25hBuilding wheels for collected packages: camel-kenlm, docopt\n",
            "  Building wheel for camel-kenlm (pyproject.toml) ... \u001b[?25l\u001b[?25hdone\n",
            "  Created wheel for camel-kenlm: filename=camel_kenlm-2025.4.8-cp311-cp311-linux_x86_64.whl size=3455549 sha256=3d47fac53c6fd2fdeb1510aabfc904bb1f8798fff9907b35d5e7e713e46f113e\n",
            "  Stored in directory: /root/.cache/pip/wheels/19/b9/62/8559aee1915ae6690fcc902a972a9ba0ff46d3ee67fea2aa44\n",
            "  Building wheel for docopt (setup.py) ... \u001b[?25l\u001b[?25hdone\n",
            "  Created wheel for docopt: filename=docopt-0.6.2-py2.py3-none-any.whl size=13706 sha256=91c4e45968fb07ee83ac8def3f5ab3d023257b4c5328adeba00ee654b0485691\n",
            "  Stored in directory: /root/.cache/pip/wheels/1a/b0/8c/4b75c4116c31f83c8f9f047231251e13cc74481cca4a78a9ce\n",
            "Successfully built camel-kenlm docopt\n",
            "Installing collected packages: docopt, camel-kenlm, tabulate, pyrsistent, pyarabic, muddler, future, emoji, editdistance, dill, tokenizers, transformers, camel-tools\n",
            "  Attempting uninstall: tokenizers\n",
            "    Found existing installation: tokenizers 0.21.1\n",
            "    Uninstalling tokenizers-0.21.1:\n",
            "      Successfully uninstalled tokenizers-0.21.1\n",
            "  Attempting uninstall: transformers\n",
            "    Found existing installation: transformers 4.51.3\n",
            "    Uninstalling transformers-4.51.3:\n",
            "      Successfully uninstalled transformers-4.51.3\n",
            "Successfully installed camel-kenlm-2025.4.8 camel-tools-1.5.6 dill-0.4.0 docopt-0.6.2 editdistance-0.8.1 emoji-2.14.1 future-1.0.0 muddler-0.1.3 pyarabic-0.6.15 pyrsistent-0.20.0 tabulate-0.9.0 tokenizers-0.19.1 transformers-4.43.4\n"
          ]
        }
      ],
      "source": [
        "!pip uninstall -y scipy numpy tensorflow tensorflow-addons\n",
        "!pip install numpy==1.23.5\n",
        "!pip install scipy==1.10.1\n",
        "!pip install tensorflow==2.12.0\n",
        "!pip install tensorflow-addons==0.20.0\n",
        "!pip uninstall -y tf-keras\n",
        "!pip install tf-keras==2.12.0\n",
        "!pip install conllu\n",
        "!pip install gensim\n",
        "!pip install git+https://www.github.com/keras-team/keras-contrib.git\n",
        "!pip install pyarabic camel-tools"
      ]
    },
    {
      "cell_type": "markdown",
      "metadata": {
        "id": "x0qhrPrU1jbg"
      },
      "source": [
        "Importation des bibliothèques nécessaires"
      ]
    },
    {
      "cell_type": "code",
      "execution_count": 1,
      "metadata": {
        "colab": {
          "base_uri": "https://localhost:8080/"
        },
        "id": "8Ftp4_ZfKOlU",
        "outputId": "968c18ee-553e-4b63-f047-3e61267ef0e6"
      },
      "outputs": [
        {
          "name": "stderr",
          "output_type": "stream",
          "text": [
            "/usr/local/lib/python3.11/dist-packages/tensorflow_addons/utils/tfa_eol_msg.py:23: UserWarning: \n",
            "\n",
            "TensorFlow Addons (TFA) has ended development and introduction of new features.\n",
            "TFA has entered a minimal maintenance and release mode until a planned end of life in May 2024.\n",
            "Please modify downstream libraries to take dependencies from other repositories in our TensorFlow community (e.g. Keras, Keras-CV, and Keras-NLP). \n",
            "\n",
            "For more information see: https://github.com/tensorflow/addons/issues/2807 \n",
            "\n",
            "  warnings.warn(\n",
            "/usr/local/lib/python3.11/dist-packages/torch_xla/__init__.py:251: UserWarning: `tensorflow` can conflict with `torch-xla`. Prefer `tensorflow-cpu` when using PyTorch/XLA. To silence this warning, `pip uninstall -y tensorflow && pip install tensorflow-cpu`. If you are in a notebook environment such as Colab or Kaggle, restart your notebook runtime afterwards.\n",
            "  warnings.warn(\n"
          ]
        }
      ],
      "source": [
        "import conllu\n",
        "import pandas as pd\n",
        "import numpy as np\n",
        "import re\n",
        "import matplotlib.pyplot as plt\n",
        "import seaborn as sns\n",
        "import gensim\n",
        "from gensim.downloader import load\n",
        "import tensorflow as tf\n",
        "import tensorflow_addons as tfa\n",
        "from tensorflow_addons.layers import CRF\n",
        "from sklearn.model_selection import train_test_split\n",
        "from sklearn.preprocessing import LabelEncoder\n",
        "from collections import defaultdict\n",
        "from tensorflow.keras.preprocessing.sequence import pad_sequences\n",
        "from tensorflow.keras.utils import to_categorical\n",
        "from tensorflow.keras.models import Model\n",
        "from tensorflow.keras.layers import Input, Embedding, Bidirectional, LSTM, TimeDistributed, Dense, Conv1D, Dropout, concatenate\n",
        "from transformers import AutoTokenizer, AutoModelForTokenClassification, Trainer, TrainingArguments, DataCollatorForTokenClassification\n",
        "from sklearn.metrics import accuracy_score, precision_recall_fscore_support\n",
        "import pyarabic.araby as araby\n",
        "from camel_tools.utils.normalize import normalize_unicode\n",
        "from tensorflow.keras.metrics import Precision, Recall"
      ]
    },
    {
      "cell_type": "markdown",
      "metadata": {
        "id": "guG_59b81wRi"
      },
      "source": [
        "connection avec google drive pour le sauvegarde"
      ]
    },
    {
      "cell_type": "code",
      "execution_count": 2,
      "metadata": {
        "colab": {
          "base_uri": "https://localhost:8080/"
        },
        "id": "kvSWftbAKOi0",
        "outputId": "82119d66-0057-40ed-ea35-0eaaaa580b02"
      },
      "outputs": [
        {
          "name": "stdout",
          "output_type": "stream",
          "text": [
            "Mounted at /content/drive\n"
          ]
        }
      ],
      "source": [
        "from google.colab import drive\n",
        "drive.mount('/content/drive')"
      ]
    },
    {
      "cell_type": "markdown",
      "metadata": {
        "id": "fpgrd6nnK0KM"
      },
      "source": [
        "Importation et affichage du dataset"
      ]
    },
    {
      "cell_type": "code",
      "execution_count": 3,
      "metadata": {
        "colab": {
          "base_uri": "https://localhost:8080/"
        },
        "id": "LE_m7dzOKzbJ",
        "outputId": "8fe39ed3-1341-4b8b-f587-f8a8f4b69ad7"
      },
      "outputs": [
        {
          "data": {
            "text/plain": [
              "{'id': 1,\n",
              " 'form': 'لونغ',\n",
              " 'lemma': 'لُونغ',\n",
              " 'upos': 'X',\n",
              " 'xpos': 'X---------',\n",
              " 'feats': {'Foreign': 'Yes'},\n",
              " 'head': 0,\n",
              " 'deprel': 'root',\n",
              " 'deps': [('root', 0)],\n",
              " 'misc': {'Vform': 'لُونغ',\n",
              "  'Gloss': 'Long',\n",
              "  'Root': 'lUn.g',\n",
              "  'Translit': 'lūnġ',\n",
              "  'LTranslit': 'lūnġ'}}"
            ]
          },
          "execution_count": 3,
          "metadata": {},
          "output_type": "execute_result"
        }
      ],
      "source": [
        "with open(\"/content/drive/MyDrive/ar_padt-ud-dev.conllu\", mode=\"r\", encoding=\"utf-8\") as data:\n",
        "    annotations=data.read()\n",
        "\n",
        "sentences = conllu.parse(annotations)\n",
        "sentences[1][0]"
      ]
    },
    {
      "cell_type": "markdown",
      "metadata": {
        "id": "YjUMNugb103H"
      },
      "source": [
        "Création d'un DataFrame contenant l'id de la phrase, l'id des mots, le mot et son étiquette\n"
      ]
    },
    {
      "cell_type": "code",
      "execution_count": null,
      "metadata": {
        "id": "JNB_FrdVKOc8"
      },
      "outputs": [],
      "source": [
        "data = []\n",
        "current_sentence_id = None\n",
        "\n",
        "with open(\"/content/drive/MyDrive/ar_padt-ud-dev.conllu\", \"r\", encoding=\"utf-8\") as f:\n",
        "    for line in f:\n",
        "        line = line.strip()\n",
        "\n",
        "        if line.startswith(\"# sent_id\"):\n",
        "            current_sentence_id = line.split(\"=\")[-1].strip()\n",
        "\n",
        "        elif line and not line.startswith(\"#\"):\n",
        "            parts = line.split(\"\\t\")\n",
        "            if len(parts) >= 4 and parts[0].isdigit():\n",
        "                word_id = int(parts[0])\n",
        "                word = parts[1]\n",
        "                upos = parts[3]\n",
        "                data.append((current_sentence_id, word_id, word, upos))\n",
        "\n",
        "df1 = pd.DataFrame(data, columns=[\"sentence_id\", \"word_id\", \"w_name\", \"tag_name\"])"
      ]
    },
    {
      "cell_type": "markdown",
      "metadata": {
        "id": "VVO5Vzel2HWf"
      },
      "source": [
        "Affichage et visualisation des catégories d'étiquettes"
      ]
    },
    {
      "cell_type": "code",
      "execution_count": null,
      "metadata": {
        "colab": {
          "base_uri": "https://localhost:8080/",
          "height": 1000
        },
        "id": "dhu5vKsvKOZk",
        "outputId": "a472e2c4-86f0-4a6c-db4f-5634dabd722e"
      },
      "outputs": [
        {
          "data": {
            "text/plain": [
              "[Text(0, 0, '9612'),\n",
              " Text(0, 0, '4410'),\n",
              " Text(0, 0, '2916'),\n",
              " Text(0, 0, '2882'),\n",
              " Text(0, 0, '2318'),\n",
              " Text(0, 0, '2041'),\n",
              " Text(0, 0, '2018'),\n",
              " Text(0, 0, '1211'),\n",
              " Text(0, 0, '969'),\n",
              " Text(0, 0, '625'),\n",
              " Text(0, 0, '555'),\n",
              " Text(0, 0, '270'),\n",
              " Text(0, 0, '258'),\n",
              " Text(0, 0, '108'),\n",
              " Text(0, 0, '27'),\n",
              " Text(0, 0, '18'),\n",
              " Text(0, 0, '1')]"
            ]
          },
          "execution_count": 5,
          "metadata": {},
          "output_type": "execute_result"
        },
        {
          "data": {
            "image/png": "[encoded data removed]",
            "text/plain": [
              "<Figure size 1170x827 with 1 Axes>"
            ]
          },
          "metadata": {},
          "output_type": "display_data"
        }
      ],
      "source": [
        "fig, ax = plt.subplots()\n",
        "fig.set_size_inches(11.7, 8.27)\n",
        "ax = sns.countplot(x=df1['tag_name'],order=df1['tag_name'].value_counts(ascending=False).index)\n",
        "abs_values = df1['tag_name'].value_counts(ascending=False).values\n",
        "ax.bar_label(container=ax.containers[0], labels=abs_values)"
      ]
    },
    {
      "cell_type": "markdown",
      "metadata": {
        "id": "0TM0ixjnMzoL"
      },
      "source": [
        "Fonction qui permet de supprimer le Tashkeel au mots et les signes coraniques"
      ]
    },
    {
      "cell_type": "code",
      "execution_count": null,
      "metadata": {
        "id": "mIL9_cV8LutV"
      },
      "outputs": [],
      "source": [
        "def normalize_arabic_text(text):\n",
        "\n",
        "    if not isinstance(text, str):\n",
        "        return text\n",
        "\n",
        "    text = normalize_unicode(text)\n",
        "\n",
        "    text = araby.strip_tashkeel(text)\n",
        "\n",
        "    text = araby.normalize_alef(text)\n",
        "\n",
        "    text = araby.normalize_hamza(text)\n",
        "\n",
        "    text = araby.normalize_ligature(text)\n",
        "\n",
        "    text = re.sub(r'[^\\u0600-\\u06FF\\s]', '', text)\n",
        "\n",
        "    text = re.sub(r'\\s+', ' ', text)\n",
        "\n",
        "    return text.strip()"
      ]
    },
    {
      "cell_type": "markdown",
      "metadata": {
        "id": "CToTrwPKM4k1"
      },
      "source": [
        "Nettoyage (Pre-Processing) du dataset en ne gardant que les mots en arabe, en supprimant Tashkeel et on garde le POS\n"
      ]
    },
    {
      "cell_type": "code",
      "execution_count": null,
      "metadata": {
        "id": "jy8GPuAiKOPs"
      },
      "outputs": [],
      "source": [
        "grouped = df1.groupby(\"sentence_id\")\n",
        "\n",
        "corpus = []\n",
        "list_pos = []\n",
        "list_words = []\n",
        "pos = []\n",
        "list_sentences = []\n",
        "\n",
        "re_pattern = re.compile(r'[a-zA-Z]+')\n",
        "\n",
        "for sentence_id, group in grouped:\n",
        "    sentence_txt = \" \".join(group['w_name'].tolist())\n",
        "    normalized_sentence = normalize_arabic_text(sentence_txt)\n",
        "\n",
        "    if re_pattern.search(normalized_sentence) is None:\n",
        "        list_sentences.append(normalized_sentence)\n",
        "        word_dict = {}\n",
        "        pos_bfr = []\n",
        "\n",
        "        for idx, row in group.iterrows():\n",
        "            word_str = normalize_arabic_text(row['w_name'])\n",
        "            word_pos = row['tag_name']\n",
        "\n",
        "            list_words.append(word_str)\n",
        "            list_pos.append(word_pos)\n",
        "            pos_bfr.append(word_pos)\n",
        "\n",
        "            word_dict[int(row['word_id'])] = [word_str, word_pos]\n",
        "\n",
        "        corpus.append(word_dict)\n",
        "        pos.append(pos_bfr)\n"
      ]
    },
    {
      "cell_type": "markdown",
      "metadata": {
        "id": "OLTq_kvi2jwm"
      },
      "source": [
        "Création du dataframe frame final aprés pre-processing"
      ]
    },
    {
      "cell_type": "code",
      "execution_count": null,
      "metadata": {
        "id": "pJfTUn5fMH1E"
      },
      "outputs": [],
      "source": [
        "rows = []\n",
        "\n",
        "for sentence_idx, word_dict in enumerate(corpus):\n",
        "    sentence_text = list_sentences[sentence_idx]\n",
        "    for word_id, (word_str, word_pos) in word_dict.items():\n",
        "        rows.append({\n",
        "            \"sentence_id\": sentence_idx, \n",
        "            \"w_name\": word_str,\n",
        "            \"tag_name\": word_pos,\n",
        "        })\n",
        "\n",
        "final_df = pd.DataFrame(rows)\n"
      ]
    },
    {
      "cell_type": "code",
      "execution_count": 9,
      "metadata": {
        "colab": {
          "base_uri": "https://localhost:8080/",
          "height": 206
        },
        "id": "1c2rLyinMJWj",
        "outputId": "2d5184f5-d054-4b36-ca9d-9087d7c381ee"
      },
      "outputs": [
        {
          "data": {
            "application/vnd.google.colaboratory.intrinsic+json": {
              "summary": "{\n  \"name\": \"final_df\",\n  \"rows\": 30239,\n  \"fields\": [\n    {\n      \"column\": \"sentence_id\",\n      \"properties\": {\n        \"dtype\": \"number\",\n        \"std\": 258,\n        \"min\": 0,\n        \"max\": 908,\n        \"num_unique_values\": 909,\n        \"samples\": [\n          866,\n          439,\n          342\n        ],\n        \"semantic_type\": \"\",\n        \"description\": \"\"\n      }\n    },\n    {\n      \"column\": \"w_name\",\n      \"properties\": {\n        \"dtype\": \"category\",\n        \"num_unique_values\": 6369,\n        \"samples\": [\n          \"\\u0631\\u0628\\u0637\\u0629\",\n          \"\\u064a\\u062d\\u0627\\u0648\\u0644\",\n          \"\\u0637\\u0648\\u0643\\u064a\\u0648\"\n        ],\n        \"semantic_type\": \"\",\n        \"description\": \"\"\n      }\n    },\n    {\n      \"column\": \"tag_name\",\n      \"properties\": {\n        \"dtype\": \"category\",\n        \"num_unique_values\": 17,\n        \"samples\": [\n          \"CCONJ\",\n          \"VERB\",\n          \"NOUN\"\n        ],\n        \"semantic_type\": \"\",\n        \"description\": \"\"\n      }\n    }\n  ]\n}",
              "type": "dataframe",
              "variable_name": "final_df"
            },
            "text/html": [
              "\n",
              "  <div id=\"df-18ea6428-0ae9-457d-843e-f4c1f84c6fbe\" class=\"colab-df-container\">\n",
              "    <div>\n",
              "<style scoped>\n",
              "    .dataframe tbody tr th:only-of-type {\n",
              "        vertical-align: middle;\n",
              "    }\n",
              "\n",
              "    .dataframe tbody tr th {\n",
              "        vertical-align: top;\n",
              "    }\n",
              "\n",
              "    .dataframe thead th {\n",
              "        text-align: right;\n",
              "    }\n",
              "</style>\n",
              "<table border=\"1\" class=\"dataframe\">\n",
              "  <thead>\n",
              "    <tr style=\"text-align: right;\">\n",
              "      <th></th>\n",
              "      <th>sentence_id</th>\n",
              "      <th>w_name</th>\n",
              "      <th>tag_name</th>\n",
              "    </tr>\n",
              "  </thead>\n",
              "  <tbody>\n",
              "    <tr>\n",
              "      <th>0</th>\n",
              "      <td>0</td>\n",
              "      <td>و</td>\n",
              "      <td>CCONJ</td>\n",
              "    </tr>\n",
              "    <tr>\n",
              "      <th>1</th>\n",
              "      <td>0</td>\n",
              "      <td>قالت</td>\n",
              "      <td>VERB</td>\n",
              "    </tr>\n",
              "    <tr>\n",
              "      <th>2</th>\n",
              "      <td>0</td>\n",
              "      <td>روث</td>\n",
              "      <td>X</td>\n",
              "    </tr>\n",
              "    <tr>\n",
              "      <th>3</th>\n",
              "      <td>0</td>\n",
              "      <td>شوارتز</td>\n",
              "      <td>X</td>\n",
              "    </tr>\n",
              "    <tr>\n",
              "      <th>4</th>\n",
              "      <td>0</td>\n",
              "      <td>التي</td>\n",
              "      <td>DET</td>\n",
              "    </tr>\n",
              "  </tbody>\n",
              "</table>\n",
              "</div>\n",
              "    <div class=\"colab-df-buttons\">\n",
              "\n",
              "  <div class=\"colab-df-container\">\n",
              "    <button class=\"colab-df-convert\" onclick=\"convertToInteractive('df-18ea6428-0ae9-457d-843e-f4c1f84c6fbe')\"\n",
              "            title=\"Convert this dataframe to an interactive table.\"\n",
              "            style=\"display:none;\">\n",
              "\n",
              "  <svg xmlns=\"http://www.w3.org/2000/svg\" height=\"24px\" viewBox=\"0 -960 960 960\">\n",
              "    <path d=\"M120-120v-720h720v720H120Zm60-500h600v-160H180v160Zm220 220h160v-160H400v160Zm0 220h160v-160H400v160ZM180-400h160v-160H180v160Zm440 0h160v-160H620v160ZM180-180h160v-160H180v160Zm440 0h160v-160H620v160Z\"/>\n",
              "  </svg>\n",
              "    </button>\n",
              "\n",
              "  <style>\n",
              "    .colab-df-container {\n",
              "      display:flex;\n",
              "      gap: 12px;\n",
              "    }\n",
              "\n",
              "    .colab-df-convert {\n",
              "      background-color: #E8F0FE;\n",
              "      border: none;\n",
              "      border-radius: 50%;\n",
              "      cursor: pointer;\n",
              "      display: none;\n",
              "      fill: #1967D2;\n",
              "      height: 32px;\n",
              "      padding: 0 0 0 0;\n",
              "      width: 32px;\n",
              "    }\n",
              "\n",
              "    .colab-df-convert:hover {\n",
              "      background-color: #E2EBFA;\n",
              "      box-shadow: 0px 1px 2px rgba(60, 64, 67, 0.3), 0px 1px 3px 1px rgba(60, 64, 67, 0.15);\n",
              "      fill: #174EA6;\n",
              "    }\n",
              "\n",
              "    .colab-df-buttons div {\n",
              "      margin-bottom: 4px;\n",
              "    }\n",
              "\n",
              "    [theme=dark] .colab-df-convert {\n",
              "      background-color: #3B4455;\n",
              "      fill: #D2E3FC;\n",
              "    }\n",
              "\n",
              "    [theme=dark] .colab-df-convert:hover {\n",
              "      background-color: #434B5C;\n",
              "      box-shadow: 0px 1px 3px 1px rgba(0, 0, 0, 0.15);\n",
              "      filter: drop-shadow(0px 1px 2px rgba(0, 0, 0, 0.3));\n",
              "      fill: #FFFFFF;\n",
              "    }\n",
              "  </style>\n",
              "\n",
              "    <script>\n",
              "      const buttonEl =\n",
              "        document.querySelector('#df-18ea6428-0ae9-457d-843e-f4c1f84c6fbe button.colab-df-convert');\n",
              "      buttonEl.style.display =\n",
              "        google.colab.kernel.accessAllowed ? 'block' : 'none';\n",
              "\n",
              "      async function convertToInteractive(key) {\n",
              "        const element = document.querySelector('#df-18ea6428-0ae9-457d-843e-f4c1f84c6fbe');\n",
              "        const dataTable =\n",
              "          await google.colab.kernel.invokeFunction('convertToInteractive',\n",
              "                                                    [key], {});\n",
              "        if (!dataTable) return;\n",
              "\n",
              "        const docLinkHtml = 'Like what you see? Visit the ' +\n",
              "          '<a target=\"_blank\" href=https://colab.research.google.com/notebooks/data_table.ipynb>data table notebook</a>'\n",
              "          + ' to learn more about interactive tables.';\n",
              "        element.innerHTML = '';\n",
              "        dataTable['output_type'] = 'display_data';\n",
              "        await google.colab.output.renderOutput(dataTable, element);\n",
              "        const docLink = document.createElement('div');\n",
              "        docLink.innerHTML = docLinkHtml;\n",
              "        element.appendChild(docLink);\n",
              "      }\n",
              "    </script>\n",
              "  </div>\n",
              "\n",
              "\n",
              "    <div id=\"df-9d7374f3-790f-4816-912b-47e962aba649\">\n",
              "      <button class=\"colab-df-quickchart\" onclick=\"quickchart('df-9d7374f3-790f-4816-912b-47e962aba649')\"\n",
              "                title=\"Suggest charts\"\n",
              "                style=\"display:none;\">\n",
              "\n",
              "<svg xmlns=\"http://www.w3.org/2000/svg\" height=\"24px\"viewBox=\"0 0 24 24\"\n",
              "     width=\"24px\">\n",
              "    <g>\n",
              "        <path d=\"M19 3H5c-1.1 0-2 .9-2 2v14c0 1.1.9 2 2 2h14c1.1 0 2-.9 2-2V5c0-1.1-.9-2-2-2zM9 17H7v-7h2v7zm4 0h-2V7h2v10zm4 0h-2v-4h2v4z\"/>\n",
              "    </g>\n",
              "</svg>\n",
              "      </button>\n",
              "\n",
              "<style>\n",
              "  .colab-df-quickchart {\n",
              "      --bg-color: #E8F0FE;\n",
              "      --fill-color: #1967D2;\n",
              "      --hover-bg-color: #E2EBFA;\n",
              "      --hover-fill-color: #174EA6;\n",
              "      --disabled-fill-color: #AAA;\n",
              "      --disabled-bg-color: #DDD;\n",
              "  }\n",
              "\n",
              "  [theme=dark] .colab-df-quickchart {\n",
              "      --bg-color: #3B4455;\n",
              "      --fill-color: #D2E3FC;\n",
              "      --hover-bg-color: #434B5C;\n",
              "      --hover-fill-color: #FFFFFF;\n",
              "      --disabled-bg-color: #3B4455;\n",
              "      --disabled-fill-color: #666;\n",
              "  }\n",
              "\n",
              "  .colab-df-quickchart {\n",
              "    background-color: var(--bg-color);\n",
              "    border: none;\n",
              "    border-radius: 50%;\n",
              "    cursor: pointer;\n",
              "    display: none;\n",
              "    fill: var(--fill-color);\n",
              "    height: 32px;\n",
              "    padding: 0;\n",
              "    width: 32px;\n",
              "  }\n",
              "\n",
              "  .colab-df-quickchart:hover {\n",
              "    background-color: var(--hover-bg-color);\n",
              "    box-shadow: 0 1px 2px rgba(60, 64, 67, 0.3), 0 1px 3px 1px rgba(60, 64, 67, 0.15);\n",
              "    fill: var(--button-hover-fill-color);\n",
              "  }\n",
              "\n",
              "  .colab-df-quickchart-complete:disabled,\n",
              "  .colab-df-quickchart-complete:disabled:hover {\n",
              "    background-color: var(--disabled-bg-color);\n",
              "    fill: var(--disabled-fill-color);\n",
              "    box-shadow: none;\n",
              "  }\n",
              "\n",
              "  .colab-df-spinner {\n",
              "    border: 2px solid var(--fill-color);\n",
              "    border-color: transparent;\n",
              "    border-bottom-color: var(--fill-color);\n",
              "    animation:\n",
              "      spin 1s steps(1) infinite;\n",
              "  }\n",
              "\n",
              "  @keyframes spin {\n",
              "    0% {\n",
              "      border-color: transparent;\n",
              "      border-bottom-color: var(--fill-color);\n",
              "      border-left-color: var(--fill-color);\n",
              "    }\n",
              "    20% {\n",
              "      border-color: transparent;\n",
              "      border-left-color: var(--fill-color);\n",
              "      border-top-color: var(--fill-color);\n",
              "    }\n",
              "    30% {\n",
              "      border-color: transparent;\n",
              "      border-left-color: var(--fill-color);\n",
              "      border-top-color: var(--fill-color);\n",
              "      border-right-color: var(--fill-color);\n",
              "    }\n",
              "    40% {\n",
              "      border-color: transparent;\n",
              "      border-right-color: var(--fill-color);\n",
              "      border-top-color: var(--fill-color);\n",
              "    }\n",
              "    60% {\n",
              "      border-color: transparent;\n",
              "      border-right-color: var(--fill-color);\n",
              "    }\n",
              "    80% {\n",
              "      border-color: transparent;\n",
              "      border-right-color: var(--fill-color);\n",
              "      border-bottom-color: var(--fill-color);\n",
              "    }\n",
              "    90% {\n",
              "      border-color: transparent;\n",
              "      border-bottom-color: var(--fill-color);\n",
              "    }\n",
              "  }\n",
              "</style>\n",
              "\n",
              "      <script>\n",
              "        async function quickchart(key) {\n",
              "          const quickchartButtonEl =\n",
              "            document.querySelector('#' + key + ' button');\n",
              "          quickchartButtonEl.disabled = true;  // To prevent multiple clicks.\n",
              "          quickchartButtonEl.classList.add('colab-df-spinner');\n",
              "          try {\n",
              "            const charts = await google.colab.kernel.invokeFunction(\n",
              "                'suggestCharts', [key], {});\n",
              "          } catch (error) {\n",
              "            console.error('Error during call to suggestCharts:', error);\n",
              "          }\n",
              "          quickchartButtonEl.classList.remove('colab-df-spinner');\n",
              "          quickchartButtonEl.classList.add('colab-df-quickchart-complete');\n",
              "        }\n",
              "        (() => {\n",
              "          let quickchartButtonEl =\n",
              "            document.querySelector('#df-9d7374f3-790f-4816-912b-47e962aba649 button');\n",
              "          quickchartButtonEl.style.display =\n",
              "            google.colab.kernel.accessAllowed ? 'block' : 'none';\n",
              "        })();\n",
              "      </script>\n",
              "    </div>\n",
              "\n",
              "    </div>\n",
              "  </div>\n"
            ],
            "text/plain": [
              "   sentence_id  w_name tag_name\n",
              "0            0       و    CCONJ\n",
              "1            0    قالت     VERB\n",
              "2            0     روث        X\n",
              "3            0  شوارتز        X\n",
              "4            0    التي      DET"
            ]
          },
          "execution_count": 9,
          "metadata": {},
          "output_type": "execute_result"
        }
      ],
      "source": [
        "final_df.head()"
      ]
    },
    {
      "cell_type": "markdown",
      "metadata": {
        "id": "kWiuyG7z2qex"
      },
      "source": [
        "Sauvegarde du dataframe dans le drive"
      ]
    },
    {
      "cell_type": "code",
      "execution_count": 10,
      "metadata": {
        "id": "nd_FRtaQNELI"
      },
      "outputs": [],
      "source": [
        "final_df.to_csv(\"/content/drive/MyDrive/POS_dataset.csv\", encoding=\"utf-8\")"
      ]
    },
    {
      "cell_type": "markdown",
      "metadata": {
        "id": "2iWThlXb2xXw"
      },
      "source": [
        "Création de variables contenant les phrases et les étiquettes"
      ]
    },
    {
      "cell_type": "code",
      "execution_count": 11,
      "metadata": {
        "id": "ewBflFbVNEHk"
      },
      "outputs": [],
      "source": [
        "sentences = grouped[\"w_name\"].apply(list).tolist()\n",
        "tags = grouped[\"tag_name\"].apply(list).tolist()"
      ]
    },
    {
      "cell_type": "markdown",
      "metadata": {
        "id": "wV3s31AR25Pr"
      },
      "source": [
        "Encodage des mots et des étiquettes en mappant chaque mot avec son id pour faciliter leur manipulation\n"
      ]
    },
    {
      "cell_type": "code",
      "execution_count": null,
      "metadata": {
        "colab": {
          "base_uri": "https://localhost:8080/"
        },
        "id": "OwAyujgrNECd",
        "outputId": "8746599d-28bd-42fe-cd6c-35edc1447faa"
      },
      "outputs": [
        {
          "name": "stdout",
          "output_type": "stream",
          "text": [
            "{0: 'SYM', 1: 'ADP', 2: 'PUNCT', 3: 'DET', 4: 'ADV', 5: 'NOUN', 6: 'CCONJ', 7: 'INTJ', 8: 'X', 9: 'PROPN', 10: 'VERB', 11: 'ADJ', 12: 'NUM', 13: 'PART', 14: 'AUX', 15: 'SCONJ', 16: 'PRON'}\n"
          ]
        }
      ],
      "source": [
        "word2idx = {w: i + 2 for i, w in enumerate(set(final_df[\"w_name\"]))}\n",
        "word2idx[\"UNK\"] = 1\n",
        "word2idx[\"PAD\"] = 0\n",
        "\n",
        "tag2idx = {t: i for i, t in enumerate(set(final_df[\"tag_name\"]))}\n",
        "idx2tag = {i: t for t, i in tag2idx.items()}\n",
        "n_tags = len(tag2idx)\n",
        "\n",
        "X = [[word2idx.get(w, 1) for w in s] for s in sentences]\n",
        "y = [[tag2idx[t] for t in s] for s in tags]\n",
        "\n",
        "print(idx2tag)\n"
      ]
    },
    {
      "cell_type": "code",
      "execution_count": 58,
      "metadata": {
        "id": "Tn1KXgxQA4En"
      },
      "outputs": [],
      "source": [
        "import pickle\n",
        "\n",
        "with open('/content/drive/MyDrive/word2idx.pkl', 'wb') as f:\n",
        "    pickle.dump(word2idx, f)\n",
        "\n",
        "with open('/content/drive/MyDrive/idx2label.pkl', 'wb') as f:\n",
        "    pickle.dump(idx2tag, f)\n",
        "\n",
        "with open('/content/drive/MyDrive/label2idx.pkl', 'wb') as f:\n",
        "    pickle.dump(tag2idx, f)"
      ]
    },
    {
      "cell_type": "code",
      "execution_count": null,
      "metadata": {
        "id": "k9v3-K8Zi-HM"
      },
      "outputs": [],
      "source": [
        "def extract_features(word):\n",
        "    features = []\n",
        "\n",
        "    contains_digit = [1] if any(c.isdigit() for c in word) else [0]\n",
        "    is_digit = [1] if word.isdigit() else [0]\n",
        "\n",
        "    is_punct = [1] if all(not c.isalnum() for c in word) else [0]\n",
        "\n",
        "    suffix = word[-3:].ljust(3)\n",
        "    suffix_features = [ord(c) / 1200 for c in suffix]  \n",
        "\n",
        "    prefix = word[:3].ljust(3)\n",
        "    prefix_features = [ord(c) / 1200 for c in prefix]\n",
        "\n",
        "    length = [min(len(word) / 15, 1.0)]\n",
        "    has_alef = [1] if 'ا' in word else [0]\n",
        "    has_waw = [1] if 'و' in word else [0]\n",
        "    has_yeh = [1] if 'ي' in word else [0]\n",
        "\n",
        "    features = (contains_digit + is_digit + is_punct + suffix_features +\n",
        "               prefix_features + length + has_alef + has_waw + has_yeh)\n",
        "\n",
        "    return features"
      ]
    },
    {
      "cell_type": "code",
      "execution_count": 14,
      "metadata": {
        "id": "1cN2B5qOjZhj"
      },
      "outputs": [],
      "source": [
        "def extract_features_for_sentence(sentence):\n",
        "    features = []\n",
        "    for word in sentence:\n",
        "        features.append(extract_features(word))\n",
        "    return features"
      ]
    },
    {
      "cell_type": "markdown",
      "metadata": {
        "id": "nLFGOO0k3Y9i"
      },
      "source": [
        "Covertir toutes les sequences avec la même longueur qui est celle de la séquence la plus longue"
      ]
    },
    {
      "cell_type": "code",
      "execution_count": null,
      "metadata": {
        "id": "e6XIzYnPND6L"
      },
      "outputs": [],
      "source": [
        "MAXLEN = max(len(s) for s in sentences)\n",
        "X = [[word2idx.get(w, word2idx[\"UNK\"]) for w in s] for s in sentences]\n",
        "X_padded = pad_sequences(X, maxlen=MAXLEN, padding=\"post\", value=word2idx[\"PAD\"])\n",
        "\n",
        "X_features = []\n",
        "for s in sentences:\n",
        "    sent_features = extract_features_for_sentence(s)\n",
        "    while len(sent_features) < MAXLEN:\n",
        "        zeros_vector = [0] * len(extract_features(\"\"))\n",
        "        sent_features.append(zeros_vector)\n",
        "\n",
        "    X_features.append(sent_features)\n",
        "\n",
        "X_features=np.array(X_features)\n",
        "\n",
        "y = [[tag2idx.get(t, tag2idx[\"X\"]) for t in ts] for ts in tags]\n",
        "y_padded = pad_sequences(y, maxlen=MAXLEN, padding=\"post\", value=tag2idx[\"X\"])\n",
        "\n",
        "\n"
      ]
    },
    {
      "cell_type": "code",
      "execution_count": 35,
      "metadata": {
        "id": "thqjO0T-1wn3"
      },
      "outputs": [],
      "source": [
        "X_padded_train, X_padded_test, X_features_train, X_features_test, y_train, y_test = train_test_split(\n",
        "    X_padded, X_features, y_padded, test_size=0.2, random_state=42\n",
        ")\n",
        "\n",
        "X_padded_train = tf.convert_to_tensor(X_padded_train)\n",
        "X_padded_test = tf.convert_to_tensor(X_padded_test)\n",
        "X_features_train = tf.convert_to_tensor(X_features_train)\n",
        "X_features_test = tf.convert_to_tensor(X_features_test)\n",
        "y_train = tf.convert_to_tensor(y_train)\n",
        "y_test = tf.convert_to_tensor(y_test)\n",
        "\n",
        "y_train = tf.expand_dims(y_train, axis=-1)\n",
        "y_test = tf.expand_dims(y_test, axis=-1)"
      ]
    },
    {
      "cell_type": "markdown",
      "metadata": {
        "id": "bIerfWhGAnDM"
      },
      "source": [
        "Création du modèle BILSTTM avec une couche dense en transformant chaque vecteur en probabilité"
      ]
    },
    {
      "cell_type": "code",
      "execution_count": null,
      "metadata": {
        "colab": {
          "base_uri": "https://localhost:8080/"
        },
        "id": "L2p06C7y1LzP",
        "outputId": "a452856b-e63f-4ebe-e754-06c149203ba5"
      },
      "outputs": [
        {
          "name": "stdout",
          "output_type": "stream",
          "text": [
            "Model: \"model_4\"\n",
            "__________________________________________________________________________________________________\n",
            " Layer (type)                   Output Shape         Param #     Connected to                     \n",
            "==================================================================================================\n",
            " word_input (InputLayer)        [(None, 112)]        0           []                               \n",
            "                                                                                                  \n",
            " embedding_4 (Embedding)        (None, 112, 100)     637100      ['word_input[0][0]']             \n",
            "                                                                                                  \n",
            " feature_input (InputLayer)     [(None, 112, 13)]    0           []                               \n",
            "                                                                                                  \n",
            " concatenate_4 (Concatenate)    (None, 112, 113)     0           ['embedding_4[0][0]',            \n",
            "                                                                  'feature_input[0][0]']          \n",
            "                                                                                                  \n",
            " bidirectional_4 (Bidirectional  (None, 112, 200)    171200      ['concatenate_4[0][0]']          \n",
            " )                                                                                                \n",
            "                                                                                                  \n",
            " dropout_4 (Dropout)            (None, 112, 200)     0           ['bidirectional_4[0][0]']        \n",
            "                                                                                                  \n",
            " time_distributed_4 (TimeDistri  (None, 112, 17)     3417        ['dropout_4[0][0]']              \n",
            " buted)                                                                                           \n",
            "                                                                                                  \n",
            "==================================================================================================\n",
            "Total params: 811,717\n",
            "Trainable params: 811,717\n",
            "Non-trainable params: 0\n",
            "__________________________________________________________________________________________________\n"
          ]
        }
      ],
      "source": [
        "n_words = len(word2idx)\n",
        "n_chars = len(char2idx)\n",
        "n_features =  X_features_train.shape[2]\n",
        "\n",
        "word_input = Input(shape=(MAXLEN,), name='word_input')\n",
        "feature_input = Input(shape=(MAXLEN, n_features), name='feature_input')\n",
        "word_embedding = Embedding(input_dim=n_words, output_dim=100,input_length=MAXLEN, mask_zero=True)(word_input)\n",
        "\n",
        "merged = concatenate([word_embedding, feature_input])\n",
        "\n",
        "main_lstm = Bidirectional(LSTM(units=100, return_sequences=True))(merged)\n",
        "main_lstm = Dropout(0.5)(main_lstm)\n",
        "\n",
        "output = TimeDistributed(Dense(n_tags, activation='softmax'))(main_lstm)\n",
        "\n",
        "model = Model(inputs=[word_input, feature_input], outputs=output)\n",
        "\n",
        "model.compile(\n",
        "    optimizer=\"adam\",\n",
        "    loss=\"sparse_categorical_crossentropy\",\n",
        "    metrics=['accuracy']\n",
        ")\n",
        "model.summary()\n"
      ]
    },
    {
      "cell_type": "markdown",
      "metadata": {
        "id": "g7hbPlV_bHNo"
      },
      "source": [
        "Conversion des données en tableaux Numpy pour faire le split puis leur reconversion en teneur TensorFlow et finalement entrainement du modèle"
      ]
    },
    {
      "cell_type": "code",
      "execution_count": 39,
      "metadata": {
        "colab": {
          "base_uri": "https://localhost:8080/"
        },
        "id": "CNCONSc1v22j",
        "outputId": "a348e18e-e6c8-48c3-c051-481482b35d20"
      },
      "outputs": [
        {
          "name": "stdout",
          "output_type": "stream",
          "text": [
            "Epoch 1/20\n",
            "23/23 [==============================] - 17s 401ms/step - loss: 2.3171 - accuracy: 0.2910 - val_loss: 2.0176 - val_accuracy: 0.3594\n",
            "Epoch 2/20\n",
            "23/23 [==============================] - 6s 278ms/step - loss: 1.9454 - accuracy: 0.4160 - val_loss: 1.7016 - val_accuracy: 0.5395\n",
            "Epoch 3/20\n",
            "23/23 [==============================] - 6s 266ms/step - loss: 1.5606 - accuracy: 0.5552 - val_loss: 1.2478 - val_accuracy: 0.6270\n",
            "Epoch 4/20\n",
            "23/23 [==============================] - 6s 265ms/step - loss: 1.1246 - accuracy: 0.6621 - val_loss: 0.8975 - val_accuracy: 0.7113\n",
            "Epoch 5/20\n",
            "23/23 [==============================] - 6s 261ms/step - loss: 0.8172 - accuracy: 0.7531 - val_loss: 0.6710 - val_accuracy: 0.8069\n",
            "Epoch 6/20\n",
            "23/23 [==============================] - 6s 261ms/step - loss: 0.5886 - accuracy: 0.8395 - val_loss: 0.5242 - val_accuracy: 0.8594\n",
            "Epoch 7/20\n",
            "23/23 [==============================] - 6s 263ms/step - loss: 0.4382 - accuracy: 0.8914 - val_loss: 0.4325 - val_accuracy: 0.8804\n",
            "Epoch 8/20\n",
            "23/23 [==============================] - 6s 261ms/step - loss: 0.3444 - accuracy: 0.9169 - val_loss: 0.3871 - val_accuracy: 0.8924\n",
            "Epoch 9/20\n",
            "23/23 [==============================] - 6s 257ms/step - loss: 0.2812 - accuracy: 0.9309 - val_loss: 0.3585 - val_accuracy: 0.8945\n",
            "Epoch 10/20\n",
            "23/23 [==============================] - 6s 263ms/step - loss: 0.2400 - accuracy: 0.9408 - val_loss: 0.3434 - val_accuracy: 0.8971\n",
            "Epoch 11/20\n",
            "23/23 [==============================] - 6s 259ms/step - loss: 0.2108 - accuracy: 0.9466 - val_loss: 0.3363 - val_accuracy: 0.8963\n",
            "Epoch 12/20\n",
            "23/23 [==============================] - 6s 262ms/step - loss: 0.1881 - accuracy: 0.9536 - val_loss: 0.3288 - val_accuracy: 0.9007\n",
            "Epoch 13/20\n",
            "23/23 [==============================] - 6s 259ms/step - loss: 0.1695 - accuracy: 0.9591 - val_loss: 0.3338 - val_accuracy: 0.8995\n",
            "Epoch 14/20\n",
            "23/23 [==============================] - 6s 256ms/step - loss: 0.1520 - accuracy: 0.9628 - val_loss: 0.3260 - val_accuracy: 0.9009\n",
            "Epoch 15/20\n",
            "23/23 [==============================] - 6s 260ms/step - loss: 0.1378 - accuracy: 0.9651 - val_loss: 0.3279 - val_accuracy: 0.9011\n",
            "Epoch 16/20\n",
            "23/23 [==============================] - 6s 258ms/step - loss: 0.1254 - accuracy: 0.9689 - val_loss: 0.3382 - val_accuracy: 0.8999\n",
            "Epoch 17/20\n",
            "23/23 [==============================] - 6s 258ms/step - loss: 0.1170 - accuracy: 0.9704 - val_loss: 0.3315 - val_accuracy: 0.9019\n",
            "Epoch 18/20\n",
            "23/23 [==============================] - 6s 256ms/step - loss: 0.1040 - accuracy: 0.9738 - val_loss: 0.3540 - val_accuracy: 0.8985\n",
            "Epoch 19/20\n",
            "23/23 [==============================] - 6s 255ms/step - loss: 0.0942 - accuracy: 0.9770 - val_loss: 0.3540 - val_accuracy: 0.8985\n",
            "Epoch 20/20\n",
            "23/23 [==============================] - 6s 259ms/step - loss: 0.0870 - accuracy: 0.9790 - val_loss: 0.3473 - val_accuracy: 0.8995\n"
          ]
        }
      ],
      "source": [
        "history = model.fit([X_padded_train,X_features_train], y_train, batch_size=32, epochs=20,validation_data=([X_padded_test, X_features_test], y_test),verbose=1)\n"
      ]
    },
    {
      "cell_type": "markdown",
      "metadata": {
        "id": "4dO3MewfbVh_"
      },
      "source": [
        "Evaluation et sauvegarde du modèle"
      ]
    },
    {
      "cell_type": "code",
      "execution_count": 40,
      "metadata": {
        "colab": {
          "base_uri": "https://localhost:8080/"
        },
        "id": "1gRPx0Ck1Owh",
        "outputId": "d4b7bbb1-b380-4922-f413-349e394a4c5c"
      },
      "outputs": [
        {
          "name": "stdout",
          "output_type": "stream",
          "text": [
            "6/6 [==============================] - 0s 36ms/step - loss: 0.3473 - accuracy: 0.8995\n",
            "loss: 0.3473\n",
            "accuracy: 0.8995\n"
          ]
        },
        {
          "name": "stderr",
          "output_type": "stream",
          "text": [
            "WARNING:absl:Found untraced functions such as _update_step_xla, lstm_cell_13_layer_call_fn, lstm_cell_13_layer_call_and_return_conditional_losses, lstm_cell_14_layer_call_fn, lstm_cell_14_layer_call_and_return_conditional_losses while saving (showing 5 of 5). These functions will not be directly callable after loading.\n"
          ]
        }
      ],
      "source": [
        "results = model.evaluate([X_padded_test, X_features_test], y_test)\n",
        "\n",
        "for name, value in zip(model.metrics_names, results):\n",
        "    print(f\"{name}: {value:.4f}\")\n",
        "\n",
        "model.save('/content/drive/MyDrive/modele')"
      ]
    },
    {
      "cell_type": "markdown",
      "metadata": {
        "id": "OtG4mA4QbgAQ"
      },
      "source": [
        "Création d'un modèle BILSTM avec une couche CNN"
      ]
    },
    {
      "cell_type": "code",
      "execution_count": null,
      "metadata": {
        "colab": {
          "base_uri": "https://localhost:8080/"
        },
        "id": "6HRb6Ku2w2Mz",
        "outputId": "699845c4-e00b-4011-8e25-a7bb9ff83739"
      },
      "outputs": [
        {
          "name": "stdout",
          "output_type": "stream",
          "text": [
            "Model: \"model_4\"\n",
            "__________________________________________________________________________________________________\n",
            " Layer (type)                   Output Shape         Param #     Connected to                     \n",
            "==================================================================================================\n",
            " word_input (InputLayer)        [(None, 112)]        0           []                               \n",
            "                                                                                                  \n",
            " embedding_4 (Embedding)        (None, 112, 100)     637100      ['word_input[0][0]']             \n",
            "                                                                                                  \n",
            " feature_input (InputLayer)     [(None, 112, 13)]    0           []                               \n",
            "                                                                                                  \n",
            " concatenate_4 (Concatenate)    (None, 112, 113)     0           ['embedding_4[0][0]',            \n",
            "                                                                  'feature_input[0][0]']          \n",
            "                                                                                                  \n",
            " bidirectional_4 (Bidirectional  (None, 112, 200)    171200      ['concatenate_4[0][0]']          \n",
            " )                                                                                                \n",
            "                                                                                                  \n",
            " dropout_4 (Dropout)            (None, 112, 200)     0           ['bidirectional_4[0][0]']        \n",
            "                                                                                                  \n",
            " time_distributed_4 (TimeDistri  (None, 112, 17)     3417        ['dropout_4[0][0]']              \n",
            " buted)                                                                                           \n",
            "                                                                                                  \n",
            "==================================================================================================\n",
            "Total params: 811,717\n",
            "Trainable params: 811,717\n",
            "Non-trainable params: 0\n",
            "__________________________________________________________________________________________________\n",
            "Epoch 1/50\n",
            "6/6 [==============================] - 8s 822ms/step - loss: 2.6273 - accuracy: 0.6194 - val_loss: 2.1707 - val_accuracy: 0.7902\n",
            "Epoch 2/50\n",
            "6/6 [==============================] - 4s 645ms/step - loss: 1.5568 - accuracy: 0.7653 - val_loss: 0.9602 - val_accuracy: 0.7499\n",
            "Epoch 3/50\n",
            "6/6 [==============================] - 4s 608ms/step - loss: 0.8715 - accuracy: 0.7698 - val_loss: 0.7149 - val_accuracy: 0.7925\n",
            "Epoch 4/50\n",
            "6/6 [==============================] - 3s 587ms/step - loss: 0.7233 - accuracy: 0.7890 - val_loss: 0.6719 - val_accuracy: 0.7945\n",
            "Epoch 5/50\n",
            "6/6 [==============================] - 4s 588ms/step - loss: 0.6904 - accuracy: 0.7807 - val_loss: 0.6557 - val_accuracy: 0.7929\n",
            "Epoch 6/50\n",
            "6/6 [==============================] - 3s 586ms/step - loss: 0.6686 - accuracy: 0.7909 - val_loss: 0.6385 - val_accuracy: 0.7950\n",
            "Epoch 7/50\n",
            "6/6 [==============================] - 4s 589ms/step - loss: 0.6493 - accuracy: 0.7966 - val_loss: 0.6232 - val_accuracy: 0.7975\n",
            "Epoch 8/50\n",
            "6/6 [==============================] - 4s 600ms/step - loss: 0.6358 - accuracy: 0.7989 - val_loss: 0.6096 - val_accuracy: 0.8009\n",
            "Epoch 9/50\n",
            "6/6 [==============================] - 4s 602ms/step - loss: 0.6214 - accuracy: 0.8038 - val_loss: 0.5939 - val_accuracy: 0.8074\n",
            "Epoch 10/50\n",
            "6/6 [==============================] - 4s 590ms/step - loss: 0.6066 - accuracy: 0.8094 - val_loss: 0.5771 - val_accuracy: 0.8100\n",
            "Epoch 11/50\n",
            "6/6 [==============================] - 3s 570ms/step - loss: 0.5882 - accuracy: 0.8162 - val_loss: 0.5575 - val_accuracy: 0.8194\n",
            "Epoch 12/50\n",
            "6/6 [==============================] - 3s 584ms/step - loss: 0.5685 - accuracy: 0.8255 - val_loss: 0.5344 - val_accuracy: 0.8369\n",
            "Epoch 13/50\n",
            "6/6 [==============================] - 3s 588ms/step - loss: 0.5428 - accuracy: 0.8377 - val_loss: 0.5077 - val_accuracy: 0.8485\n",
            "Epoch 14/50\n",
            "6/6 [==============================] - 3s 583ms/step - loss: 0.5170 - accuracy: 0.8472 - val_loss: 0.4770 - val_accuracy: 0.8585\n",
            "Epoch 15/50\n",
            "6/6 [==============================] - 3s 599ms/step - loss: 0.4878 - accuracy: 0.8569 - val_loss: 0.4438 - val_accuracy: 0.8636\n",
            "Epoch 16/50\n",
            "6/6 [==============================] - 3s 587ms/step - loss: 0.4542 - accuracy: 0.8652 - val_loss: 0.4107 - val_accuracy: 0.8715\n",
            "Epoch 17/50\n",
            "6/6 [==============================] - 3s 579ms/step - loss: 0.4229 - accuracy: 0.8730 - val_loss: 0.3785 - val_accuracy: 0.8811\n",
            "Epoch 18/50\n",
            "6/6 [==============================] - 3s 581ms/step - loss: 0.3918 - accuracy: 0.8800 - val_loss: 0.3499 - val_accuracy: 0.8862\n",
            "Epoch 19/50\n",
            "6/6 [==============================] - 3s 585ms/step - loss: 0.3625 - accuracy: 0.8886 - val_loss: 0.3230 - val_accuracy: 0.8954\n",
            "Epoch 20/50\n",
            "6/6 [==============================] - 3s 584ms/step - loss: 0.3342 - accuracy: 0.8967 - val_loss: 0.3000 - val_accuracy: 0.9030\n",
            "Epoch 21/50\n",
            "6/6 [==============================] - 3s 580ms/step - loss: 0.3096 - accuracy: 0.9057 - val_loss: 0.2788 - val_accuracy: 0.9140\n",
            "Epoch 22/50\n",
            "6/6 [==============================] - 3s 569ms/step - loss: 0.2841 - accuracy: 0.9148 - val_loss: 0.2611 - val_accuracy: 0.9206\n",
            "Epoch 23/50\n",
            "6/6 [==============================] - 3s 586ms/step - loss: 0.2633 - accuracy: 0.9217 - val_loss: 0.2439 - val_accuracy: 0.9268\n",
            "Epoch 24/50\n",
            "6/6 [==============================] - 3s 570ms/step - loss: 0.2443 - accuracy: 0.9278 - val_loss: 0.2305 - val_accuracy: 0.9313\n",
            "Epoch 25/50\n",
            "6/6 [==============================] - 3s 570ms/step - loss: 0.2229 - accuracy: 0.9352 - val_loss: 0.2172 - val_accuracy: 0.9344\n",
            "Epoch 26/50\n",
            "6/6 [==============================] - 3s 587ms/step - loss: 0.2077 - accuracy: 0.9407 - val_loss: 0.2067 - val_accuracy: 0.9367\n",
            "Epoch 27/50\n",
            "6/6 [==============================] - 3s 584ms/step - loss: 0.1911 - accuracy: 0.9457 - val_loss: 0.1968 - val_accuracy: 0.9395\n",
            "Epoch 28/50\n",
            "6/6 [==============================] - 3s 583ms/step - loss: 0.1776 - accuracy: 0.9495 - val_loss: 0.1894 - val_accuracy: 0.9421\n",
            "Epoch 29/50\n",
            "6/6 [==============================] - 3s 568ms/step - loss: 0.1629 - accuracy: 0.9541 - val_loss: 0.1825 - val_accuracy: 0.9447\n",
            "Epoch 30/50\n",
            "6/6 [==============================] - 3s 569ms/step - loss: 0.1527 - accuracy: 0.9576 - val_loss: 0.1771 - val_accuracy: 0.9460\n",
            "Epoch 31/50\n",
            "6/6 [==============================] - 3s 585ms/step - loss: 0.1435 - accuracy: 0.9598 - val_loss: 0.1715 - val_accuracy: 0.9483\n",
            "Epoch 32/50\n",
            "6/6 [==============================] - 3s 585ms/step - loss: 0.1333 - accuracy: 0.9640 - val_loss: 0.1674 - val_accuracy: 0.9495\n",
            "Epoch 33/50\n",
            "6/6 [==============================] - 3s 568ms/step - loss: 0.1236 - accuracy: 0.9665 - val_loss: 0.1638 - val_accuracy: 0.9517\n",
            "Epoch 34/50\n",
            "6/6 [==============================] - 3s 584ms/step - loss: 0.1164 - accuracy: 0.9678 - val_loss: 0.1618 - val_accuracy: 0.9532\n",
            "Epoch 35/50\n",
            "6/6 [==============================] - 3s 583ms/step - loss: 0.1084 - accuracy: 0.9704 - val_loss: 0.1581 - val_accuracy: 0.9551\n",
            "Epoch 36/50\n",
            "6/6 [==============================] - 3s 581ms/step - loss: 0.1016 - accuracy: 0.9731 - val_loss: 0.1576 - val_accuracy: 0.9556\n",
            "Epoch 37/50\n",
            "6/6 [==============================] - 3s 580ms/step - loss: 0.0978 - accuracy: 0.9741 - val_loss: 0.1550 - val_accuracy: 0.9569\n",
            "Epoch 38/50\n",
            "6/6 [==============================] - 3s 584ms/step - loss: 0.0915 - accuracy: 0.9763 - val_loss: 0.1539 - val_accuracy: 0.9578\n",
            "Epoch 39/50\n",
            "6/6 [==============================] - 3s 585ms/step - loss: 0.0869 - accuracy: 0.9775 - val_loss: 0.1528 - val_accuracy: 0.9579\n",
            "Epoch 40/50\n",
            "6/6 [==============================] - 3s 578ms/step - loss: 0.0816 - accuracy: 0.9790 - val_loss: 0.1518 - val_accuracy: 0.9590\n",
            "Epoch 41/50\n",
            "6/6 [==============================] - 3s 581ms/step - loss: 0.0767 - accuracy: 0.9805 - val_loss: 0.1502 - val_accuracy: 0.9598\n",
            "Epoch 42/50\n",
            "6/6 [==============================] - 3s 582ms/step - loss: 0.0732 - accuracy: 0.9811 - val_loss: 0.1515 - val_accuracy: 0.9603\n",
            "Epoch 43/50\n",
            "6/6 [==============================] - 3s 571ms/step - loss: 0.0714 - accuracy: 0.9821 - val_loss: 0.1510 - val_accuracy: 0.9609\n",
            "Epoch 44/50\n",
            "6/6 [==============================] - 3s 569ms/step - loss: 0.0658 - accuracy: 0.9843 - val_loss: 0.1500 - val_accuracy: 0.9614\n",
            "Epoch 45/50\n",
            "6/6 [==============================] - 3s 579ms/step - loss: 0.0622 - accuracy: 0.9848 - val_loss: 0.1493 - val_accuracy: 0.9615\n",
            "Epoch 46/50\n",
            "6/6 [==============================] - 3s 569ms/step - loss: 0.0612 - accuracy: 0.9849 - val_loss: 0.1531 - val_accuracy: 0.9613\n",
            "Epoch 47/50\n",
            "6/6 [==============================] - 3s 568ms/step - loss: 0.0584 - accuracy: 0.9859 - val_loss: 0.1518 - val_accuracy: 0.9619\n",
            "Epoch 48/50\n",
            "6/6 [==============================] - 3s 569ms/step - loss: 0.0556 - accuracy: 0.9868 - val_loss: 0.1503 - val_accuracy: 0.9615\n",
            "Epoch 49/50\n",
            "6/6 [==============================] - 3s 567ms/step - loss: 0.0550 - accuracy: 0.9864 - val_loss: 0.1524 - val_accuracy: 0.9618\n",
            "Epoch 50/50\n",
            "6/6 [==============================] - 3s 586ms/step - loss: 0.0524 - accuracy: 0.9871 - val_loss: 0.1518 - val_accuracy: 0.9622\n",
            "6/6 [==============================] - 0s 33ms/step - loss: 0.1413 - accuracy: 0.9636\n",
            "loss: 0.1413\n",
            "accuracy: 0.9636\n"
          ]
        },
        {
          "name": "stderr",
          "output_type": "stream",
          "text": [
            "WARNING:absl:Found untraced functions such as _jit_compiled_convolution_op, _update_step_xla, lstm_cell_19_layer_call_fn, lstm_cell_19_layer_call_and_return_conditional_losses, lstm_cell_20_layer_call_fn while saving (showing 5 of 6). These functions will not be directly callable after loading.\n"
          ]
        }
      ],
      "source": [
        "from tensorflow.keras.layers import MaxPooling1D\n",
        "\n",
        "n_words = len(word2idx)\n",
        "n_chars = len(char2idx)\n",
        "n_features =  X_features_train.shape[2]\n",
        "\n",
        "word_input = Input(shape=(MAXLEN,), name='word_input')\n",
        "feature_input = Input(shape=(MAXLEN, n_features), name='feature_input')\n",
        "word_embedding = Embedding(input_dim=n_words, output_dim=100,input_length=MAXLEN, mask_zero=True)(word_input)\n",
        "\n",
        "merged = concatenate([word_embedding, feature_input])\n",
        "\n",
        "cnn_layer = Conv1D(filters=64, kernel_size=3, padding='same', activation='relu')(merged)\n",
        "cnn_layer = Dropout(0.3)(cnn_layer)\n",
        "\n",
        "main_lstm = Bidirectional(LSTM(units=100, return_sequences=True))(cnn_layer)\n",
        "main_lstm = Dropout(0.5)(main_lstm)\n",
        "\n",
        "output = TimeDistributed(Dense(n_tags, activation='softmax'))(main_lstm)\n",
        "\n",
        "model1 = Model(inputs=[word_input, feature_input], outputs=output)\n",
        "\n",
        "model1.compile(\n",
        "    optimizer=\"adam\",\n",
        "    loss=\"sparse_categorical_crossentropy\",\n",
        "    metrics=['accuracy']\n",
        ")\n",
        "model.summary()\n",
        "\n",
        "history = model1.fit(\n",
        "    [X_padded_train,X_features_train],\n",
        "    np.array(y_train),\n",
        "    batch_size=100,\n",
        "    epochs=50,\n",
        "    validation_split=0.2,\n",
        "    verbose=1\n",
        ")\n",
        "\n",
        "results = model1.evaluate([X_padded_test,X_features_test], y_test)\n",
        "for name, value in zip(model1.metrics_names, results):\n",
        "    print(f\"{name}: {value:.4f}\")\n",
        "\n",
        "model1.save('/content/drive/MyDrive/modele_BILSTM-CNN')"
      ]
    },
    {
      "cell_type": "code",
      "execution_count": null,
      "metadata": {
        "colab": {
          "base_uri": "https://localhost:8080/"
        },
        "id": "8QpqutRb6joJ",
        "outputId": "b8849062-c7e9-4f4a-80d8-4fa602e2b9f4"
      },
      "outputs": [
        {
          "name": "stdout",
          "output_type": "stream",
          "text": [
            "1/1 [==============================] - 0s 33ms/step\n"
          ]
        },
        {
          "data": {
            "text/plain": [
              "(['VERB', 'NOUN', 'NOUN', 'ADP', 'NUM', 'ADP', 'NUM', 'NOUN', 'ADJ'],\n",
              " ['ارتفع', 'سعر', 'النفط', 'بنسبة', '5%', 'خلال', '30', 'يوما', 'الماضية'])"
            ]
          },
          "execution_count": 56,
          "metadata": {},
          "output_type": "execute_result"
        }
      ],
      "source": [
        "def predict_pos_tags(sentence, model, word2idx, tag2idx, extract_features_for_sentence, extract_features, MAXLEN):\n",
        "    idx2tag = {v: k for k, v in tag2idx.items()}\n",
        "\n",
        "    words = sentence.split()\n",
        "\n",
        "    X = [word2idx.get(w, word2idx.get(\"UNK\", 0)) for w in words]\n",
        "    X_padded = pad_sequences([X], maxlen=MAXLEN, padding=\"post\", value=word2idx.get(\"PAD\", 0))\n",
        "\n",
        "    sent_features = extract_features_for_sentence(words)\n",
        "\n",
        "    while len(sent_features) < MAXLEN:\n",
        "        zeros_vector = [0] * len(extract_features(\"\"))\n",
        "        sent_features.append(zeros_vector)\n",
        "\n",
        "    X_features = np.array([sent_features])\n",
        "\n",
        "    predictions = model.predict([X_padded, X_features])\n",
        "\n",
        "    pred_tags = []\n",
        "    for i in range(min(len(words), MAXLEN)):\n",
        "        pred_idx = np.argmax(predictions[0, i])\n",
        "        if pred_idx in idx2tag:\n",
        "            pred_tags.append(idx2tag[pred_idx])\n",
        "        else:\n",
        "            pred_tags.append(tag2idx.get(\"X\", \"UNK\"))\n",
        "\n",
        "    return pred_tags, words\n",
        "sentence=\"ارتفع سعر النفط بنسبة 5% خلال 30 يوما الماضية\"\n",
        "predict_pos_tags(sentence,model1,word2idx,tag2idx,extract_features_for_sentence,extract_features,MAXLEN)"
      ]
    },
    {
      "cell_type": "markdown",
      "metadata": {
        "id": "k5tzZUuBbok8"
      },
      "source": [
        "Fine-tunning du modèle AraBert sur noss données pour la tâche de POS tagging"
      ]
    },
    {
      "cell_type": "code",
      "execution_count": null,
      "metadata": {
        "colab": {
          "base_uri": "https://localhost:8080/",
          "height": 501
        },
        "id": "Ry7MAnTkzBC1",
        "outputId": "7836a170-8e61-483a-c209-c31f19f4b696"
      },
      "outputs": [
        {
          "name": "stderr",
          "output_type": "stream",
          "text": [
            "Some weights of BertForTokenClassification were not initialized from the model checkpoint at aubmindlab/bert-base-arabert and are newly initialized: ['classifier.bias', 'classifier.weight']\n",
            "You should probably TRAIN this model on a down-stream task to be able to use it for predictions and inference.\n",
            "<ipython-input-52-8f362534a147>:129: FutureWarning: `tokenizer` is deprecated and will be removed in version 5.0.0 for `Trainer.__init__`. Use `processing_class` instead.\n",
            "  trainer = Trainer(\n"
          ]
        },
        {
          "data": {
            "text/html": [
              "\n",
              "    <div>\n",
              "      \n",
              "      <progress value='4530' max='4530' style='width:300px; height:20px; vertical-align: middle;'></progress>\n",
              "      [4530/4530 2:24:26, Epoch 3/3]\n",
              "    </div>\n",
              "    <table border=\"1\" class=\"dataframe\">\n",
              "  <thead>\n",
              " <tr style=\"text-align: left;\">\n",
              "      <th>Epoch</th>\n",
              "      <th>Training Loss</th>\n",
              "      <th>Validation Loss</th>\n",
              "      <th>Accuracy</th>\n",
              "      <th>F1</th>\n",
              "      <th>Precision</th>\n",
              "      <th>Recall</th>\n",
              "    </tr>\n",
              "  </thead>\n",
              "  <tbody>\n",
              "    <tr>\n",
              "      <td>1</td>\n",
              "      <td>0.326300</td>\n",
              "      <td>0.349474</td>\n",
              "      <td>0.914596</td>\n",
              "      <td>0.913118</td>\n",
              "      <td>0.914472</td>\n",
              "      <td>0.914596</td>\n",
              "    </tr>\n",
              "    <tr>\n",
              "      <td>2</td>\n",
              "      <td>0.217600</td>\n",
              "      <td>0.317782</td>\n",
              "      <td>0.932287</td>\n",
              "      <td>0.931228</td>\n",
              "      <td>0.932714</td>\n",
              "      <td>0.932287</td>\n",
              "    </tr>\n",
              "    <tr>\n",
              "      <td>3</td>\n",
              "      <td>0.159000</td>\n",
              "      <td>0.267251</td>\n",
              "      <td>0.938711</td>\n",
              "      <td>0.937873</td>\n",
              "      <td>0.938593</td>\n",
              "      <td>0.938711</td>\n",
              "    </tr>\n",
              "  </tbody>\n",
              "</table><p>"
            ],
            "text/plain": [
              "<IPython.core.display.HTML object>"
            ]
          },
          "metadata": {},
          "output_type": "display_data"
        },
        {
          "name": "stdout",
          "output_type": "stream",
          "text": [
            "\n",
            "Évaluation du modèle sur l'ensemble de validation:\n"
          ]
        },
        {
          "data": {
            "text/html": [
              "\n",
              "    <div>\n",
              "      \n",
              "      <progress value='378' max='378' style='width:300px; height:20px; vertical-align: middle;'></progress>\n",
              "      [378/378 02:06]\n",
              "    </div>\n",
              "    "
            ],
            "text/plain": [
              "<IPython.core.display.HTML object>"
            ]
          },
          "metadata": {},
          "output_type": "display_data"
        },
        {
          "name": "stdout",
          "output_type": "stream",
          "text": [
            "Accuracy: 0.9387\n",
            "F1 score: 0.9379\n",
            "Precision: 0.9386\n",
            "Recall: 0.9387\n",
            "Loss: 0.2673\n"
          ]
        },
        {
          "data": {
            "text/plain": [
              "('/content/drive/MyDrive/ARABERT_Tokenizer/tokenizer_config.json',\n",
              " '/content/drive/MyDrive/ARABERT_Tokenizer/special_tokens_map.json',\n",
              " '/content/drive/MyDrive/ARABERT_Tokenizer/vocab.txt',\n",
              " '/content/drive/MyDrive/ARABERT_Tokenizer/added_tokens.json',\n",
              " '/content/drive/MyDrive/ARABERT_Tokenizer/tokenizer.json')"
            ]
          },
          "execution_count": 52,
          "metadata": {},
          "output_type": "execute_result"
        }
      ],
      "source": [
        "class POSTaggingDataset(Dataset):\n",
        "    def __init__(self, encodings, labels=None):\n",
        "        self.encodings = encodings\n",
        "        self.labels = labels\n",
        "\n",
        "    def __getitem__(self, idx):\n",
        "        item = {key: val[idx] for key, val in self.encodings.items()}\n",
        "        if self.labels is not None:\n",
        "            item[\"labels\"] = self.labels[idx]\n",
        "        return item\n",
        "\n",
        "    def __len__(self):\n",
        "        return len(self.encodings[\"input_ids\"])\n",
        "\n",
        "def tokenize_and_align_labels(texts, tags, tokenizer):\n",
        "    tokenized_inputs = tokenizer(texts, truncation=True, padding=True, is_split_into_words=False)\n",
        "\n",
        "    labels = []\n",
        "\n",
        "    for i, (text, tag) in enumerate(zip(texts, tags)):\n",
        "        word_ids = tokenizer(text, truncation=True, is_split_into_words=False).word_ids()\n",
        "\n",
        "        label = tag\n",
        "        label_ids = [-100] * len(tokenized_inputs.input_ids[i])  \n",
        "\n",
        "        for j in range(len(word_ids)):\n",
        "            if j < len(tokenized_inputs.input_ids[i]) and word_ids[j] is not None:\n",
        "                label_ids[j] = label\n",
        "\n",
        "        labels.append(label_ids)\n",
        "\n",
        "    tokenized_inputs[\"labels\"] = labels\n",
        "    return tokenized_inputs\n",
        "\n",
        "\n",
        "def compute_metrics(p):\n",
        "    predictions, labels = p\n",
        "    predictions = np.argmax(predictions, axis=2)\n",
        "\n",
        "\n",
        "    true_predictions = [\n",
        "        [idx2tag[p] for (p, l) in zip(prediction, label) if l != -100]\n",
        "        for prediction, label in zip(predictions, labels)\n",
        "    ]\n",
        "    true_labels = [\n",
        "        [idx2tag[l] for (p, l) in zip(prediction, label) if l != -100]\n",
        "        for prediction, label in zip(predictions, labels)\n",
        "    ]\n",
        "\n",
        "    flat_predictions = [p for sublist in true_predictions for p in sublist]\n",
        "    flat_labels = [l for sublist in true_labels for l in sublist]\n",
        "\n",
        "    precision, recall, f1, _ = precision_recall_fscore_support(flat_labels, flat_predictions, average='weighted')\n",
        "    acc = accuracy_score(flat_labels, flat_predictions)\n",
        "\n",
        "    return {\n",
        "        'accuracy': acc,\n",
        "        'f1': f1,\n",
        "        'precision': precision,\n",
        "        'recall': recall\n",
        "    }\n",
        "\n",
        "tokenizer = AutoTokenizer.from_pretrained(\"aubmindlab/bert-base-arabert\")\n",
        "\n",
        "train_df, validation_df = train_test_split(final_df, test_size=0.2, random_state=42)\n",
        "train_df = train_df.reset_index(drop=True)\n",
        "validation_df = validation_df.reset_index(drop=True)\n",
        "\n",
        "train_texts = train_df[\"w_name\"].tolist()\n",
        "train_tags = [tag2idx[tag] for tag in train_df[\"tag_name\"].tolist()]\n",
        "\n",
        "validation_texts = validation_df[\"w_name\"].tolist()\n",
        "validation_tags = [tag2idx[tag] for tag in validation_df[\"tag_name\"].tolist()]\n",
        "\n",
        "train_encodings = tokenize_and_align_labels(train_texts, train_tags, tokenizer)\n",
        "validation_encodings = tokenize_and_align_labels(validation_texts, validation_tags, tokenizer)\n",
        "\n",
        "train_dataset = POSTaggingDataset({k: v for k, v in train_encodings.items() if k != \"labels\"}, train_encodings[\"labels\"])\n",
        "validation_dataset = POSTaggingDataset({k: v for k, v in validation_encodings.items() if k != \"labels\"}, validation_encodings[\"labels\"])\n",
        "\n",
        "data_collator = DataCollatorForTokenClassification(tokenizer=tokenizer)\n",
        "\n",
        "training_args = TrainingArguments(\n",
        "    output_dir=\"./arabert-pos-tagger\",\n",
        "    eval_strategy=\"epoch\",\n",
        "    learning_rate=5e-5,\n",
        "    per_device_train_batch_size=16,\n",
        "    per_device_eval_batch_size=16,\n",
        "    num_train_epochs=2,\n",
        "    weight_decay=0.1,\n",
        "    save_strategy=\"epoch\",\n",
        ")\n",
        "\n",
        "model = AutoModelForTokenClassification.from_pretrained(\n",
        "    \"aubmindlab/bert-base-arabert\",\n",
        "    num_labels=n_tags,\n",
        "    id2label=idx2tag,\n",
        "    label2id=tag2idx\n",
        ")\n",
        "\n",
        "trainer = Trainer(\n",
        "    model=model,\n",
        "    args=training_args,\n",
        "    train_dataset=train_dataset,\n",
        "    eval_dataset=validation_dataset,\n",
        "    tokenizer=tokenizer,\n",
        "    data_collator=data_collator,\n",
        "    compute_metrics=compute_metrics\n",
        ")\n",
        "\n",
        "\n",
        "trainer.train()\n",
        "print(\"\\nÉvaluation du modèle sur l'ensemble de validation:\")\n",
        "eval_results = trainer.evaluate()\n",
        "print(f\"Accuracy: {eval_results['eval_accuracy']:.4f}\")\n",
        "print(f\"F1 score: {eval_results['eval_f1']:.4f}\")\n",
        "print(f\"Precision: {eval_results['eval_precision']:.4f}\")\n",
        "print(f\"Recall: {eval_results['eval_recall']:.4f}\")\n",
        "print(f\"Loss: {eval_results['eval_loss']:.4f}\")\n",
        "trainer.save_model(\"/content/drive/MyDrive/ARABERT_MODELE\")\n",
        "tokenizer.save_pretrained(\"/content/drive/MyDrive/ARABERT_Tokenizer\")"
      ]
    }
  ],
  "metadata": {
    "accelerator": "TPU",
    "colab": {
      "gpuType": "V28",
      "provenance": []
    },
    "kernelspec": {
      "display_name": "Python 3",
      "name": "python3"
    },
    "language_info": {
      "name": "python"
    }
  },
  "nbformat": 4,
  "nbformat_minor": 0
}
